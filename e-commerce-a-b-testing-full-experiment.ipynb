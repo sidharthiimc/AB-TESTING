{
 "cells": [
  {
   "cell_type": "markdown",
   "id": "318dd066",
   "metadata": {
    "papermill": {
     "duration": 0.050382,
     "end_time": "2021-09-12T03:18:37.946537",
     "exception": false,
     "start_time": "2021-09-12T03:18:37.896155",
     "status": "completed"
    },
    "tags": []
   },
   "source": [
    "The biggest e-commerce company called <b>FaceZonGoogAppFlix</b> as approached us (a data science consulting firm) as a new client! \r\n",
    "\r\n",
    "They have a potential new webpage designed with the intention to increase their current conversion rates of 12% by 0.35% or more. With such an ambiguous task, they have full trust in us to give them a recommendation whether to implement the new page or keep the old page. Unforunately they haven't built up a data science capability in their company, but they've used an external software called 'A/B Tester' for 23 days and come back to us with a dataset. What do we do?\r\n",
    "\r\n",
    "The goal of this notebook will serve as a primer into A/B testing and go through as many of the foundations of A/B testing I found online. In my opinion, A/B testing isn't really explored properly or well enough, so hopefully this notebook will fill in this void. Through this notebook, I've placed some references and consolidated pieces of their methodologies here.\r\n",
    "\r\n",
    "    This notebook assumes a very surface and high-level level understanding of A/B Testing - a statistical way to compare two or more versions (A or B?) to determine not only which one performs better but also to understand if the difference between two of them is statistically significant (Data Science Dojo, 2018).\r\n",
    "    \r\n",
    "    Furthermore, the current conversion rate of 12% is chosen from assumptions from the control data, and the intention to increase conversion rates by 0.35% is intentionally chosen as the lowest practical value to achieve the highest minimum Sample Size required. More on these later."
   ]
  },
  {
   "cell_type": "code",
   "execution_count": 1,
   "id": "dfd7b409",
   "metadata": {
    "execution": {
     "iopub.execute_input": "2021-09-12T03:18:38.049560Z",
     "iopub.status.busy": "2021-09-12T03:18:38.048768Z",
     "iopub.status.idle": "2021-09-12T03:18:38.860963Z",
     "shell.execute_reply": "2021-09-12T03:18:38.860206Z",
     "shell.execute_reply.started": "2021-09-12T03:18:15.581665Z"
    },
    "papermill": {
     "duration": 0.867596,
     "end_time": "2021-09-12T03:18:38.861201",
     "exception": false,
     "start_time": "2021-09-12T03:18:37.993605",
     "status": "completed"
    },
    "tags": []
   },
   "outputs": [],
   "source": [
    "#first, load packages:\r\n",
    "import pandas as pd\r\n",
    "import numpy as np\r\n",
    "import scipy.stats as ss\r\n",
    "import math as mt\r\n",
    "import itertools"
   ]
  },
  {
   "cell_type": "code",
   "execution_count": 2,
   "id": "d59240ab",
   "metadata": {
    "execution": {
     "iopub.execute_input": "2021-09-12T03:18:38.952734Z",
     "iopub.status.busy": "2021-09-12T03:18:38.951985Z",
     "iopub.status.idle": "2021-09-12T03:18:39.617567Z",
     "shell.execute_reply": "2021-09-12T03:18:39.616898Z",
     "shell.execute_reply.started": "2021-09-12T03:18:15.899521Z"
    },
    "papermill": {
     "duration": 0.71355,
     "end_time": "2021-09-12T03:18:39.617755",
     "exception": false,
     "start_time": "2021-09-12T03:18:38.904205",
     "status": "completed"
    },
    "tags": []
   },
   "outputs": [
    {
     "data": {
      "text/html": [
       "<div>\n",
       "<style scoped>\n",
       "    .dataframe tbody tr th:only-of-type {\n",
       "        vertical-align: middle;\n",
       "    }\n",
       "\n",
       "    .dataframe tbody tr th {\n",
       "        vertical-align: top;\n",
       "    }\n",
       "\n",
       "    .dataframe thead th {\n",
       "        text-align: right;\n",
       "    }\n",
       "</style>\n",
       "<table border=\"1\" class=\"dataframe\">\n",
       "  <thead>\n",
       "    <tr style=\"text-align: right;\">\n",
       "      <th></th>\n",
       "      <th>user_id</th>\n",
       "      <th>timestamp</th>\n",
       "      <th>group</th>\n",
       "      <th>landing_page</th>\n",
       "      <th>converted</th>\n",
       "    </tr>\n",
       "  </thead>\n",
       "  <tbody>\n",
       "    <tr>\n",
       "      <th>0</th>\n",
       "      <td>851104</td>\n",
       "      <td>2017-01-21 22:11:48.556739</td>\n",
       "      <td>control</td>\n",
       "      <td>old_page</td>\n",
       "      <td>0</td>\n",
       "    </tr>\n",
       "    <tr>\n",
       "      <th>1</th>\n",
       "      <td>804228</td>\n",
       "      <td>2017-01-12 08:01:45.159739</td>\n",
       "      <td>control</td>\n",
       "      <td>old_page</td>\n",
       "      <td>0</td>\n",
       "    </tr>\n",
       "    <tr>\n",
       "      <th>2</th>\n",
       "      <td>661590</td>\n",
       "      <td>2017-01-11 16:55:06.154213</td>\n",
       "      <td>treatment</td>\n",
       "      <td>new_page</td>\n",
       "      <td>0</td>\n",
       "    </tr>\n",
       "    <tr>\n",
       "      <th>3</th>\n",
       "      <td>853541</td>\n",
       "      <td>2017-01-08 18:28:03.143765</td>\n",
       "      <td>treatment</td>\n",
       "      <td>new_page</td>\n",
       "      <td>0</td>\n",
       "    </tr>\n",
       "    <tr>\n",
       "      <th>4</th>\n",
       "      <td>864975</td>\n",
       "      <td>2017-01-21 01:52:26.210827</td>\n",
       "      <td>control</td>\n",
       "      <td>old_page</td>\n",
       "      <td>1</td>\n",
       "    </tr>\n",
       "  </tbody>\n",
       "</table>\n",
       "</div>"
      ],
      "text/plain": [
       "   user_id                   timestamp      group landing_page  converted\n",
       "0   851104  2017-01-21 22:11:48.556739    control     old_page          0\n",
       "1   804228  2017-01-12 08:01:45.159739    control     old_page          0\n",
       "2   661590  2017-01-11 16:55:06.154213  treatment     new_page          0\n",
       "3   853541  2017-01-08 18:28:03.143765  treatment     new_page          0\n",
       "4   864975  2017-01-21 01:52:26.210827    control     old_page          1"
      ]
     },
     "execution_count": 2,
     "metadata": {},
     "output_type": "execute_result"
    }
   ],
   "source": [
    "#next, let's have a look at our dataset:\n",
    "data = pd.read_csv('../input/ab-testing/ab_data.csv')\n",
    "df = data.copy()\n",
    "df.head()"
   ]
  },
  {
   "cell_type": "code",
   "execution_count": 3,
   "id": "12f28c58",
   "metadata": {
    "execution": {
     "iopub.execute_input": "2021-09-12T03:18:39.709886Z",
     "iopub.status.busy": "2021-09-12T03:18:39.709217Z",
     "iopub.status.idle": "2021-09-12T03:18:39.832975Z",
     "shell.execute_reply": "2021-09-12T03:18:39.833627Z",
     "shell.execute_reply.started": "2021-09-12T03:18:16.392135Z"
    },
    "papermill": {
     "duration": 0.171663,
     "end_time": "2021-09-12T03:18:39.833853",
     "exception": false,
     "start_time": "2021-09-12T03:18:39.662190",
     "status": "completed"
    },
    "tags": []
   },
   "outputs": [
    {
     "name": "stdout",
     "output_type": "stream",
     "text": [
      "<class 'pandas.core.frame.DataFrame'>\n",
      "RangeIndex: 294478 entries, 0 to 294477\n",
      "Data columns (total 5 columns):\n",
      " #   Column        Non-Null Count   Dtype \n",
      "---  ------        --------------   ----- \n",
      " 0   user_id       294478 non-null  int64 \n",
      " 1   timestamp     294478 non-null  object\n",
      " 2   group         294478 non-null  object\n",
      " 3   landing_page  294478 non-null  object\n",
      " 4   converted     294478 non-null  int64 \n",
      "dtypes: int64(2), object(3)\n",
      "memory usage: 11.2+ MB\n",
      "(294478, 5)\n"
     ]
    }
   ],
   "source": [
    "df.info()\r\n",
    "print(df.shape)"
   ]
  },
  {
   "cell_type": "markdown",
   "id": "e1dcf39d",
   "metadata": {
    "papermill": {
     "duration": 0.043899,
     "end_time": "2021-09-12T03:18:39.921739",
     "exception": false,
     "start_time": "2021-09-12T03:18:39.877840",
     "status": "completed"
    },
    "tags": []
   },
   "source": [
    "<u><b>Data Cleansing:</b></u>"
   ]
  },
  {
   "cell_type": "code",
   "execution_count": 4,
   "id": "e5246110",
   "metadata": {
    "execution": {
     "iopub.execute_input": "2021-09-12T03:18:40.016648Z",
     "iopub.status.busy": "2021-09-12T03:18:40.015840Z",
     "iopub.status.idle": "2021-09-12T03:18:40.034892Z",
     "shell.execute_reply": "2021-09-12T03:18:40.035521Z",
     "shell.execute_reply.started": "2021-09-12T03:18:16.509704Z"
    },
    "papermill": {
     "duration": 0.068454,
     "end_time": "2021-09-12T03:18:40.035719",
     "exception": false,
     "start_time": "2021-09-12T03:18:39.967265",
     "status": "completed"
    },
    "tags": []
   },
   "outputs": [
    {
     "data": {
      "text/plain": [
       "290584"
      ]
     },
     "execution_count": 4,
     "metadata": {},
     "output_type": "execute_result"
    }
   ],
   "source": [
    "#we want to analyse data of unique user's conversion rates given their unique landing page:\r\n",
    "df['user_id'].nunique()\r\n",
    "#290584 unique users vs 294478 rows - why the discrepancy?"
   ]
  },
  {
   "cell_type": "code",
   "execution_count": 5,
   "id": "786d096c",
   "metadata": {
    "execution": {
     "iopub.execute_input": "2021-09-12T03:18:40.127169Z",
     "iopub.status.busy": "2021-09-12T03:18:40.126508Z",
     "iopub.status.idle": "2021-09-12T03:18:40.256974Z",
     "shell.execute_reply": "2021-09-12T03:18:40.257555Z",
     "shell.execute_reply.started": "2021-09-12T03:18:16.535113Z"
    },
    "papermill": {
     "duration": 0.178539,
     "end_time": "2021-09-12T03:18:40.257799",
     "exception": false,
     "start_time": "2021-09-12T03:18:40.079260",
     "status": "completed"
    },
    "tags": []
   },
   "outputs": [],
   "source": [
    "#Locate where treatment does not match with new_page or control does not match with old_page, and drop these rows\r\n",
    "i = df[((df['group']=='treatment') ==(df['landing_page']=='new_page')) == False].index\r\n",
    "df2 = df.drop(i)"
   ]
  },
  {
   "cell_type": "code",
   "execution_count": 6,
   "id": "65d30c1d",
   "metadata": {
    "execution": {
     "iopub.execute_input": "2021-09-12T03:18:40.352380Z",
     "iopub.status.busy": "2021-09-12T03:18:40.351510Z",
     "iopub.status.idle": "2021-09-12T03:18:40.355962Z",
     "shell.execute_reply": "2021-09-12T03:18:40.355435Z",
     "shell.execute_reply.started": "2021-09-12T03:18:16.675636Z"
    },
    "papermill": {
     "duration": 0.054123,
     "end_time": "2021-09-12T03:18:40.356144",
     "exception": false,
     "start_time": "2021-09-12T03:18:40.302021",
     "status": "completed"
    },
    "tags": []
   },
   "outputs": [
    {
     "data": {
      "text/plain": [
       "290585"
      ]
     },
     "execution_count": 6,
     "metadata": {},
     "output_type": "execute_result"
    }
   ],
   "source": [
    "# Number of unique users in df2 was return above, how many rows do we have now?\r\n",
    "df2.shape[0]"
   ]
  },
  {
   "cell_type": "code",
   "execution_count": 7,
   "id": "d509b994",
   "metadata": {
    "execution": {
     "iopub.execute_input": "2021-09-12T03:18:40.452588Z",
     "iopub.status.busy": "2021-09-12T03:18:40.451547Z",
     "iopub.status.idle": "2021-09-12T03:18:40.501627Z",
     "shell.execute_reply": "2021-09-12T03:18:40.501044Z",
     "shell.execute_reply.started": "2021-09-12T03:18:16.684408Z"
    },
    "papermill": {
     "duration": 0.101002,
     "end_time": "2021-09-12T03:18:40.501773",
     "exception": false,
     "start_time": "2021-09-12T03:18:40.400771",
     "status": "completed"
    },
    "tags": []
   },
   "outputs": [
    {
     "data": {
      "text/html": [
       "<div>\n",
       "<style scoped>\n",
       "    .dataframe tbody tr th:only-of-type {\n",
       "        vertical-align: middle;\n",
       "    }\n",
       "\n",
       "    .dataframe tbody tr th {\n",
       "        vertical-align: top;\n",
       "    }\n",
       "\n",
       "    .dataframe thead th {\n",
       "        text-align: right;\n",
       "    }\n",
       "</style>\n",
       "<table border=\"1\" class=\"dataframe\">\n",
       "  <thead>\n",
       "    <tr style=\"text-align: right;\">\n",
       "      <th></th>\n",
       "      <th>user_id</th>\n",
       "      <th>timestamp</th>\n",
       "      <th>group</th>\n",
       "      <th>landing_page</th>\n",
       "      <th>converted</th>\n",
       "    </tr>\n",
       "  </thead>\n",
       "  <tbody>\n",
       "    <tr>\n",
       "      <th>1899</th>\n",
       "      <td>773192</td>\n",
       "      <td>2017-01-09 05:37:58.781806</td>\n",
       "      <td>treatment</td>\n",
       "      <td>new_page</td>\n",
       "      <td>0</td>\n",
       "    </tr>\n",
       "    <tr>\n",
       "      <th>2893</th>\n",
       "      <td>773192</td>\n",
       "      <td>2017-01-14 02:55:59.590927</td>\n",
       "      <td>treatment</td>\n",
       "      <td>new_page</td>\n",
       "      <td>0</td>\n",
       "    </tr>\n",
       "  </tbody>\n",
       "</table>\n",
       "</div>"
      ],
      "text/plain": [
       "      user_id                   timestamp      group landing_page  converted\n",
       "1899   773192  2017-01-09 05:37:58.781806  treatment     new_page          0\n",
       "2893   773192  2017-01-14 02:55:59.590927  treatment     new_page          0"
      ]
     },
     "execution_count": 7,
     "metadata": {},
     "output_type": "execute_result"
    }
   ],
   "source": [
    "#If the number of unique rows is 1 greater than the number of unique users, then we have a duplicate user somewhere. We'll find the duplicate row first:\r\n",
    "df2[df2.duplicated(['user_id'], keep=False)]"
   ]
  },
  {
   "cell_type": "code",
   "execution_count": 8,
   "id": "6e21bcfe",
   "metadata": {
    "execution": {
     "iopub.execute_input": "2021-09-12T03:18:40.596892Z",
     "iopub.status.busy": "2021-09-12T03:18:40.596274Z",
     "iopub.status.idle": "2021-09-12T03:18:40.664574Z",
     "shell.execute_reply": "2021-09-12T03:18:40.665106Z",
     "shell.execute_reply.started": "2021-09-12T03:18:16.757868Z"
    },
    "papermill": {
     "duration": 0.118703,
     "end_time": "2021-09-12T03:18:40.665319",
     "exception": false,
     "start_time": "2021-09-12T03:18:40.546616",
     "status": "completed"
    },
    "tags": []
   },
   "outputs": [],
   "source": [
    "#drop duplicate:\r\n",
    "df2.drop_duplicates(subset ='user_id',keep ='first',inplace = True)"
   ]
  },
  {
   "cell_type": "markdown",
   "id": "89e28da9",
   "metadata": {
    "papermill": {
     "duration": 0.044199,
     "end_time": "2021-09-12T03:18:40.753753",
     "exception": false,
     "start_time": "2021-09-12T03:18:40.709554",
     "status": "completed"
    },
    "tags": []
   },
   "source": [
    "<b><u>Probabilities:</u></b>"
   ]
  },
  {
   "cell_type": "code",
   "execution_count": 9,
   "id": "626185e8",
   "metadata": {
    "execution": {
     "iopub.execute_input": "2021-09-12T03:18:40.851340Z",
     "iopub.status.busy": "2021-09-12T03:18:40.850315Z",
     "iopub.status.idle": "2021-09-12T03:18:40.866410Z",
     "shell.execute_reply": "2021-09-12T03:18:40.866905Z",
     "shell.execute_reply.started": "2021-09-12T03:18:16.818734Z"
    },
    "papermill": {
     "duration": 0.06782,
     "end_time": "2021-09-12T03:18:40.867072",
     "exception": false,
     "start_time": "2021-09-12T03:18:40.799252",
     "status": "completed"
    },
    "tags": []
   },
   "outputs": [
    {
     "data": {
      "text/plain": [
       "0.11959708724499628"
      ]
     },
     "execution_count": 9,
     "metadata": {},
     "output_type": "execute_result"
    }
   ],
   "source": [
    "#total/pooled probability of conversion:\r\n",
    "P_pool = (df2.query('converted == 1').converted.count())/df2.shape[0]\r\n",
    "P_pool"
   ]
  },
  {
   "cell_type": "code",
   "execution_count": 10,
   "id": "aacf30fb",
   "metadata": {
    "execution": {
     "iopub.execute_input": "2021-09-12T03:18:40.963522Z",
     "iopub.status.busy": "2021-09-12T03:18:40.962834Z",
     "iopub.status.idle": "2021-09-12T03:18:41.004706Z",
     "shell.execute_reply": "2021-09-12T03:18:41.004144Z",
     "shell.execute_reply.started": "2021-09-12T03:18:16.841735Z"
    },
    "papermill": {
     "duration": 0.093068,
     "end_time": "2021-09-12T03:18:41.004867",
     "exception": false,
     "start_time": "2021-09-12T03:18:40.911799",
     "status": "completed"
    },
    "tags": []
   },
   "outputs": [
    {
     "data": {
      "text/plain": [
       "0.1203863045004612"
      ]
     },
     "execution_count": 10,
     "metadata": {},
     "output_type": "execute_result"
    }
   ],
   "source": [
    "#probability of conversion given a user was in the control group:\r\n",
    "control_df = df2.query('group ==\"control\"')\r\n",
    "P_old = control_df['converted'].mean()\r\n",
    "P_old"
   ]
  },
  {
   "cell_type": "code",
   "execution_count": 11,
   "id": "8db50b81",
   "metadata": {
    "execution": {
     "iopub.execute_input": "2021-09-12T03:18:41.101507Z",
     "iopub.status.busy": "2021-09-12T03:18:41.100729Z",
     "iopub.status.idle": "2021-09-12T03:18:41.145585Z",
     "shell.execute_reply": "2021-09-12T03:18:41.146083Z",
     "shell.execute_reply.started": "2021-09-12T03:18:16.881313Z"
    },
    "papermill": {
     "duration": 0.096457,
     "end_time": "2021-09-12T03:18:41.146305",
     "exception": false,
     "start_time": "2021-09-12T03:18:41.049848",
     "status": "completed"
    },
    "tags": []
   },
   "outputs": [
    {
     "data": {
      "text/plain": [
       "0.11880806551510564"
      ]
     },
     "execution_count": 11,
     "metadata": {},
     "output_type": "execute_result"
    }
   ],
   "source": [
    "#probability of conversion given a user was in the treatment group:\r\n",
    "treatment_df = df2.query('group ==\"treatment\"')\r\n",
    "P_new = treatment_df['converted'].mean()\r\n",
    "P_new"
   ]
  },
  {
   "cell_type": "markdown",
   "id": "9ab99b95",
   "metadata": {
    "papermill": {
     "duration": 0.046163,
     "end_time": "2021-09-12T03:18:41.239184",
     "exception": false,
     "start_time": "2021-09-12T03:18:41.193021",
     "status": "completed"
    },
    "tags": []
   },
   "source": [
    "We can quickly observe that our new page isn't doing too hot on conversion improvement. In fact, it's doing slightly worse than the control group!\r\n",
    "\r\n",
    "Hypothetically we could end the test here, but there are a few checks and measures we must do before and after an A/B test to ensure our experiment as run properly."
   ]
  },
  {
   "cell_type": "markdown",
   "id": "f6984024",
   "metadata": {
    "papermill": {
     "duration": 0.046452,
     "end_time": "2021-09-12T03:18:41.331363",
     "exception": false,
     "start_time": "2021-09-12T03:18:41.284911",
     "status": "completed"
    },
    "tags": []
   },
   "source": [
    "<u><b>Metrics</b></u>\r\n",
    "\r\n",
    "This is probably something that I've seen where it's not exactly talked about in most A/B tests found in Kaggle, but is a crucial talking point.\r\n",
    "\r\n",
    "The purpose of Metrics (both Invariate and Evaluation Metrics) are to ensure during our experiment that we didn't screw up throughout its lifecycle. It helps verify that the experiment was conducted as expected and that other factors did not influence the data which we collected.\r\n",
    "\r\n",
    "Imagine for this particular A/B experiment, we propose to divide users exactly in half into the old and new page (50/50) BEFORE we even begin. Now imagine we don't bother checking this Metric during or after the experiment, and we conclude that the new page is better, whoopee. But what if we checked the proportion AFTER the test was (33/67)? Maybe the A/B test software had a bug? Maybe the code to split the traffic had a bug? Either way...If this split drastically changes throughout our experiment, our data is inherently wrong.\r\n",
    "\r\n",
    "There are two types of Metrics: \r\n",
    "\r\n",
    "1. Invariant (or Guardrail Metric, which seems to be the most updated term (Kohavi, Tang & Xu, 2020)) - similar to the example above, we expect Guardrail Metrics to not change.\r\n",
    "\r\n",
    "2. Evaluation Metric - these Metrics we DO expect to change due to the nature of A/B testing. For each of these evaluation metrics, they should be related to the business objectives. \r\n",
    "\r\n",
    "There are many Metrics in a real A/B test we should always have our eyes on (the way we present change to a part of the population, the way we collect data, seasonality and timing of the experiment, daily active users, Click Through Probability, etc.)\r\n",
    "\r\n",
    "One Guardrail Metric we can test given our dataset is the <b>number of unique users in each page group</b>. The experiment was designed to keep a 50/50 split, so let's see if this holds true post-A/B testing.\r\n",
    "\r\n",
    "One Evaluation Metric we want to define will be the <b>increase in conversions</b>. For this metric, we want to define $D_{min}$: the minimum change which is practically significant to the business. In this case, the practical minimum difference would be the 0.35%, closely related to our business objectives of increasing our current conversion rates of 12% by 0.35%. Therefore, we'll set $D_{min}$ = 0.0035. The 0.0035 is also usually a sign that our clients are a big e-commerce company and such an increase in conversion would have a huge impact on their top-line (Yu, 2020)."
   ]
  },
  {
   "cell_type": "markdown",
   "id": "d9df5ef9",
   "metadata": {
    "papermill": {
     "duration": 0.045331,
     "end_time": "2021-09-12T03:18:41.422811",
     "exception": false,
     "start_time": "2021-09-12T03:18:41.377480",
     "status": "completed"
    },
    "tags": []
   },
   "source": [
    "<u><b>Guardrail Metric Check:</b></u>\r\n",
    "\r\n",
    "As stated above, we want to verify our Guardrail Metrics before diving deeper. We want to count the proportion of users in each group and see if there is a significant difference in the proportion amounts. If a statistically significant difference is present, it implies a biased experiment and our results should not be relied on.\r\n",
    "\r\n",
    "How we test this is through the use of Confidence Intervals (CI). If one were to google the formula for CI with the t-distribution, we would get:\r\n",
    "\r\n",
    "$CI =\r\n",
    " \\bar{x} \\ \\pm \\ z_{1-\\alpha} \\ \\frac{s}{\\sqrt{n}}$\r\n",
    "\r\n",
    "- $CI$ = Confidence Interval\r\n",
    "- $\\bar{x}$ = Sample Mean\r\n",
    "- $z_{1-\\alpha}$ = Confidence Level Value (For simplicity, I'll write z to denote this)\r\n",
    "- $s$ = sample standard mean (notice how we don't use σ, since σ represents a known standard deviation, and t-distribution is used for s, or unknown σ)\r\n",
    "- $n$ = sample size.\r\n",
    "\r\n",
    "We can adjust this formula using the Central Limit Theorem where a large enough summed Binomial Distribution will converge towards the Normal distribution, or $X \\sim N(np,\\sqrt{np(1-p)} \\ )$ given our sample size is large enough (typically ≥ 30). \r\n",
    "\r\n",
    "This means that for our sampling proportion $\\hat{p} = \\frac{X}{n}$: our distribution will converge towards $N( \\hat{p},\\sqrt{ \\frac{ \\hat{p} (1 - \\hat{p})}{n}} )$.\r\n",
    "\r\n",
    "Therefore, our Binomial Confidence Intervals are calculated by:\r\n",
    "\r\n",
    "$CI =\r\n",
    " \\hat{p} \\ \\pm \\ z \\ \\sqrt{ \\frac{ \\hat{p} (1 - \\hat{p})}{n}}$\r\n",
    "\r\n",
    "We will now use the above to calculate our Confidence Interval for p̂ and see if we've kept the approximate 50/50 split:\r\n",
    "\r\n"
   ]
  },
  {
   "cell_type": "code",
   "execution_count": 12,
   "id": "a9a0cd2e",
   "metadata": {
    "execution": {
     "iopub.execute_input": "2021-09-12T03:18:41.525529Z",
     "iopub.status.busy": "2021-09-12T03:18:41.524825Z",
     "iopub.status.idle": "2021-09-12T03:18:41.638571Z",
     "shell.execute_reply": "2021-09-12T03:18:41.639032Z",
     "shell.execute_reply.started": "2021-09-12T03:18:16.924680Z"
    },
    "papermill": {
     "duration": 0.16745,
     "end_time": "2021-09-12T03:18:41.639250",
     "exception": false,
     "start_time": "2021-09-12T03:18:41.471800",
     "status": "completed"
    },
    "tags": []
   },
   "outputs": [
    {
     "data": {
      "text/plain": [
       "(0.4999380557773312, 0.5000619442226688)"
      ]
     },
     "execution_count": 12,
     "metadata": {},
     "output_type": "execute_result"
    }
   ],
   "source": [
    "#proportion of users seeing the new vs old page:\r\n",
    "N_new = df2.query('landing_page == \"new_page\"').landing_page.count()\r\n",
    "N_old = df2.query('landing_page == \"old_page\"').landing_page.count()\r\n",
    "proportion = (N_old/df2.shape[0],N_new/df2.shape[0])\r\n",
    "proportion"
   ]
  },
  {
   "cell_type": "code",
   "execution_count": 13,
   "id": "167a0611",
   "metadata": {
    "execution": {
     "iopub.execute_input": "2021-09-12T03:18:41.738567Z",
     "iopub.status.busy": "2021-09-12T03:18:41.737897Z",
     "iopub.status.idle": "2021-09-12T03:18:41.740848Z",
     "shell.execute_reply": "2021-09-12T03:18:41.740239Z",
     "shell.execute_reply.started": "2021-09-12T03:18:17.053007Z"
    },
    "papermill": {
     "duration": 0.05398,
     "end_time": "2021-09-12T03:18:41.740996",
     "exception": false,
     "start_time": "2021-09-12T03:18:41.687016",
     "status": "completed"
    },
    "tags": []
   },
   "outputs": [],
   "source": [
    "#function for getting z-scores for alpha. For our experiemnt where alpha = 5%, keep in mind we want to input 1-alpha/2 for Confidence Intervals.\r\n",
    "def get_z_score(alpha):\r\n",
    "    return ss.norm.ppf(alpha)"
   ]
  },
  {
   "cell_type": "code",
   "execution_count": 14,
   "id": "8c854fac",
   "metadata": {
    "execution": {
     "iopub.execute_input": "2021-09-12T03:18:41.837161Z",
     "iopub.status.busy": "2021-09-12T03:18:41.836505Z",
     "iopub.status.idle": "2021-09-12T03:18:41.843603Z",
     "shell.execute_reply": "2021-09-12T03:18:41.843029Z",
     "shell.execute_reply.started": "2021-09-12T03:18:17.060267Z"
    },
    "papermill": {
     "duration": 0.056499,
     "end_time": "2021-09-12T03:18:41.843763",
     "exception": false,
     "start_time": "2021-09-12T03:18:41.787264",
     "status": "completed"
    },
    "tags": []
   },
   "outputs": [
    {
     "name": "stdout",
     "output_type": "stream",
     "text": [
      "Does the control group proportion 0.4999380557773312 lie within (0.49823603241391395, 0.5017639675860861)?\n"
     ]
    }
   ],
   "source": [
    "#Guardrail Check on differences in proportions:\r\n",
    "sd = round(mt.sqrt((0.5*(1-0.5))/df2.shape[0]),4)\r\n",
    "CI = (0.5 - sd*get_z_score(1-0.05/2), 0.5 + sd*get_z_score(1-0.05/2))\r\n",
    "print('Does the control group proportion ' + str(N_old/df2.shape[0]) + ' lie within ' + str(CI) + '?')"
   ]
  },
  {
   "cell_type": "markdown",
   "id": "f259bb9b",
   "metadata": {
    "papermill": {
     "duration": 0.045457,
     "end_time": "2021-09-12T03:18:41.935659",
     "exception": false,
     "start_time": "2021-09-12T03:18:41.890202",
     "status": "completed"
    },
    "tags": []
   },
   "source": [
    "We've calculated 95% confidence intervals for our p̂ = 0.5 which lies within the CI. This means that we've passed our Guardrail Metric that the number of unique users is equal for each group."
   ]
  },
  {
   "cell_type": "markdown",
   "id": "8492bbc4",
   "metadata": {
    "papermill": {
     "duration": 0.045457,
     "end_time": "2021-09-12T03:18:42.027835",
     "exception": false,
     "start_time": "2021-09-12T03:18:41.982378",
     "status": "completed"
    },
    "tags": []
   },
   "source": [
    "<u><b>Sample Size</b></u>\r\n",
    "\r\n",
    "Having a required Sample Size is one of the important cornerstones of a successful A/B Test and is dependant on 3 factors (Saleh, 2018):\r\n",
    "\r\n",
    "1. Power of the test (usually $1 - \\beta = 0.8$): Probability of detecting that there is a difference between the conversion rates and rejecting the Null Hypothesis when the Null Hypothesis is True (Type II Error).    \r\n",
    "\r\n",
    "2. Significance level of the test ($\\alpha = 0.05$) - Probability that we reject the Null Hypothesis while it should NOT be rejected (Type I Error).\r\n",
    "\r\n",
    "3. Minimal Desired Effect (MDE, or $D_{min}$) - The desired relevant difference between the rates you would like to discover - what is the minimum improvement for a test to be worthwhile?\r\n",
    "\r\n",
    "As a discussion point, A/B Tests can begin to go bad when a Sample Size is not calculated before the A/B test, or 'peeking' at your results before the total number of observations is less than your minimum Sample Size and concluding prematurely when you think you've achieved a positive result. Usually if an A/B Test is running and there aren't enough users to match the required Sample Size, the 3 factors would have to be adjusted to lower the minimium Sample Size.\r\n",
    "\r\n",
    "This online calculator does a great job of calculating Sample Size: https://www.evanmiller.org/ab-testing/sample-size.html\r\n",
    "\r\n",
    "However, we're going to manually calculate the required Sample Size using two different methods:\r\n",
    "\r\n",
    "1. The statistical rule of thumb:\r\n",
    "\r\n",
    "$n ≈\r\n",
    " \\frac{16 \\sigma^{2}}{\\delta^{2}}$ (van Belle, 2008)\r\n",
    "\r\n",
    "2. Evan Miller's Calculator above, but we'll use a formula that is the foundation of Evan Miller's Calculator (zthomas.nc, 2019)\r\n"
   ]
  },
  {
   "cell_type": "code",
   "execution_count": 15,
   "id": "ac752942",
   "metadata": {
    "execution": {
     "iopub.execute_input": "2021-09-12T03:18:42.126385Z",
     "iopub.status.busy": "2021-09-12T03:18:42.125667Z",
     "iopub.status.idle": "2021-09-12T03:18:42.129558Z",
     "shell.execute_reply": "2021-09-12T03:18:42.130179Z",
     "shell.execute_reply.started": "2021-09-12T03:18:17.076486Z"
    },
    "papermill": {
     "duration": 0.056394,
     "end_time": "2021-09-12T03:18:42.130408",
     "exception": false,
     "start_time": "2021-09-12T03:18:42.074014",
     "status": "completed"
    },
    "tags": []
   },
   "outputs": [
    {
     "data": {
      "text/plain": [
       "137926.53061224488"
      ]
     },
     "execution_count": 15,
     "metadata": {},
     "output_type": "execute_result"
    }
   ],
   "source": [
    "#1. Using statistical rule of thumb to calculate minimum sample size per variation:\r\n",
    "16*(0.12*(1-0.12))/pow(0.0035,2)"
   ]
  },
  {
   "cell_type": "markdown",
   "id": "18f99967",
   "metadata": {
    "papermill": {
     "duration": 0.045954,
     "end_time": "2021-09-12T03:18:42.222699",
     "exception": false,
     "start_time": "2021-09-12T03:18:42.176745",
     "status": "completed"
    },
    "tags": []
   },
   "source": [
    "    If using the statistical rule of thumb, the minimum sample size per variation = 137,926/variation. Given we have 2 groups (treatment and control): the total minimum sample size = 275,852. Since we have a total sample size of 290,584, our a/b test will have enough statistical power and significance."
   ]
  },
  {
   "cell_type": "code",
   "execution_count": 16,
   "id": "387d4d02",
   "metadata": {
    "execution": {
     "iopub.execute_input": "2021-09-12T03:18:42.322318Z",
     "iopub.status.busy": "2021-09-12T03:18:42.321617Z",
     "iopub.status.idle": "2021-09-12T03:18:42.323511Z",
     "shell.execute_reply": "2021-09-12T03:18:42.323986Z",
     "shell.execute_reply.started": "2021-09-12T03:18:17.090237Z"
    },
    "papermill": {
     "duration": 0.054677,
     "end_time": "2021-09-12T03:18:42.324216",
     "exception": false,
     "start_time": "2021-09-12T03:18:42.269539",
     "status": "completed"
    },
    "tags": []
   },
   "outputs": [],
   "source": [
    "#calculating the minimum sample size for the ab test:\r\n",
    "def get_sampSize(sds,alpha,beta,d):\r\n",
    "    n=pow((get_z_score(1-alpha/2)*sds[0]+get_z_score(1-beta)*sds[1]),2)/pow(d,2)\r\n",
    "    return n"
   ]
  },
  {
   "cell_type": "code",
   "execution_count": 17,
   "id": "acc3181c",
   "metadata": {
    "execution": {
     "iopub.execute_input": "2021-09-12T03:18:42.423012Z",
     "iopub.status.busy": "2021-09-12T03:18:42.422048Z",
     "iopub.status.idle": "2021-09-12T03:18:42.426566Z",
     "shell.execute_reply": "2021-09-12T03:18:42.427067Z",
     "shell.execute_reply.started": "2021-09-12T03:18:17.101425Z"
    },
    "papermill": {
     "duration": 0.055915,
     "end_time": "2021-09-12T03:18:42.427281",
     "exception": false,
     "start_time": "2021-09-12T03:18:42.371366",
     "status": "completed"
    },
    "tags": []
   },
   "outputs": [],
   "source": [
    "#baseline + expected change standard deviation calculations\r\n",
    "def get_sds(p,d):\r\n",
    "    sd1=mt.sqrt(2*p*(1-p))\r\n",
    "    sd2=mt.sqrt(p*(1-p)+(p+d)*(1-(p+d)))\r\n",
    "    sds=[sd1,sd2]\r\n",
    "    return sds"
   ]
  },
  {
   "cell_type": "code",
   "execution_count": 18,
   "id": "428665ad",
   "metadata": {
    "execution": {
     "iopub.execute_input": "2021-09-12T03:18:42.530001Z",
     "iopub.status.busy": "2021-09-12T03:18:42.529366Z",
     "iopub.status.idle": "2021-09-12T03:18:42.533926Z",
     "shell.execute_reply": "2021-09-12T03:18:42.533295Z",
     "shell.execute_reply.started": "2021-09-12T03:18:17.113180Z"
    },
    "papermill": {
     "duration": 0.057878,
     "end_time": "2021-09-12T03:18:42.534068",
     "exception": false,
     "start_time": "2021-09-12T03:18:42.476190",
     "status": "completed"
    },
    "tags": []
   },
   "outputs": [
    {
     "data": {
      "text/plain": [
       "135830"
      ]
     },
     "execution_count": 18,
     "metadata": {},
     "output_type": "execute_result"
    }
   ],
   "source": [
    "#2. Using Evan Miller's Calculator but deriving the values ourselves:\r\n",
    "round(get_sampSize(get_sds(0.12, 0.0035),0.05,0.2,0.0035))"
   ]
  },
  {
   "cell_type": "markdown",
   "id": "93a5d805",
   "metadata": {
    "papermill": {
     "duration": 0.047902,
     "end_time": "2021-09-12T03:18:42.628516",
     "exception": false,
     "start_time": "2021-09-12T03:18:42.580614",
     "status": "completed"
    },
    "tags": []
   },
   "source": [
    "    If using Evan Miller's calculator, the minimum sample size per group = 135,830 users/variation. Given we have 2 groups (treatment and control): the total minimum sample size = 271,660 users. Since we have a total sample size of 290,584, our a/b test will have enough statistical power and significance."
   ]
  },
  {
   "cell_type": "markdown",
   "id": "91f7bce2",
   "metadata": {
    "papermill": {
     "duration": 0.046144,
     "end_time": "2021-09-12T03:18:42.724834",
     "exception": false,
     "start_time": "2021-09-12T03:18:42.678690",
     "status": "completed"
    },
    "tags": []
   },
   "source": [
    "Now, it's time to view various methods to conclude if $P_{new} = P_{old}$ or $P_{new} > P_{old}$:"
   ]
  },
  {
   "cell_type": "markdown",
   "id": "7f49f881",
   "metadata": {
    "papermill": {
     "duration": 0.049628,
     "end_time": "2021-09-12T03:18:42.821100",
     "exception": false,
     "start_time": "2021-09-12T03:18:42.771472",
     "status": "completed"
    },
    "tags": []
   },
   "source": [
    "<b><u>1. Binomial Proportion Confidence Intervals:</u></b>"
   ]
  },
  {
   "cell_type": "markdown",
   "id": "ad0efeda",
   "metadata": {
    "papermill": {
     "duration": 0.048327,
     "end_time": "2021-09-12T03:18:42.929044",
     "exception": false,
     "start_time": "2021-09-12T03:18:42.880717",
     "status": "completed"
    },
    "tags": []
   },
   "source": [
    "This method is quoted as the 'most common' method for A/B testing, where we find Confidence Intervals (CI) for both $P_{new}$ and $P_{old}$. If we construct similar intervals for both and compare them, we will end up in either scenario: (jkndrkn, 2012)\r\n",
    "\r\n",
    "1. The Intervals do not overlap: This implies that we can say with some level of confidence that one is better than the other, therefore providing enough evidence to reject the Null Hypothesis. This level of confidence seems to be $≈ 1-e \\alpha^{1.91}%$ (Lan, 2011). So if there is overlap and the 95% CI are the same size, the difference is significant at the 99.5% level.\r\n",
    "\r\n",
    "2. The Intervals do overlap: Then it is either a sign that our population does not have enough statistical power, or we do not have enough evidence to reject the Null Hypothesis that $P_{new} = P_{old}$.\r\n",
    "\r\n",
    "There is a relationship between CI comparisons and hypothesis tests - given that the sample sizes are not too different and the two sets have similar standard deviations. This method wouldn't derive highly precise p-values from comparing two CIs, but there is a good write up that tries to quantify this (Lan, 2011).\r\n",
    "\r\n",
    "Finding the 'true' conversion rate of a particular group is usually impossible or difficult, but we can use our calculated $P_{new}$ and $P_{old}$ as point estimations to find the Confidence Intervals for the 'true' $P_{new}$ and $P_{old}$. A good explanation for beginners about using point intervals to calculate a CI for the 'true' conversion rate can be found in the Appendix of <i>\"A/B Testing: The Most Powerful Way to Turn Clicks into Customers\"</i> (Siroker & Koomen, 2013)"
   ]
  },
  {
   "cell_type": "code",
   "execution_count": 19,
   "id": "9c14dbcb",
   "metadata": {
    "execution": {
     "iopub.execute_input": "2021-09-12T03:18:43.039790Z",
     "iopub.status.busy": "2021-09-12T03:18:43.039047Z",
     "iopub.status.idle": "2021-09-12T03:18:43.045064Z",
     "shell.execute_reply": "2021-09-12T03:18:43.044430Z",
     "shell.execute_reply.started": "2021-09-12T03:18:17.131327Z"
    },
    "papermill": {
     "duration": 0.062248,
     "end_time": "2021-09-12T03:18:43.045256",
     "exception": false,
     "start_time": "2021-09-12T03:18:42.983008",
     "status": "completed"
    },
    "tags": []
   },
   "outputs": [
    {
     "name": "stdout",
     "output_type": "stream",
     "text": [
      "Do (0.11847266343679363, 0.12229994556412876) and (0.11690554055275011, 0.12071059047746117) overlap?\n"
     ]
    }
   ],
   "source": [
    "CI_old = (P_old - get_z_score(1-0.025/2)*mt.sqrt(P_old*(1-P_old)/N_old),P_old + get_z_score(1-0.025/2)*mt.sqrt(P_old*(1-P_old)/N_old))\r\n",
    "CI_new = (P_new - get_z_score(1-0.025/2)*mt.sqrt(P_new*(1-P_new)/N_new),P_new + get_z_score(1-0.025/2)*mt.sqrt(P_new*(1-P_new)/N_new))\r\n",
    "print('Do ' + str(CI_old) + ' and ' + str(CI_new) + ' overlap?') "
   ]
  },
  {
   "cell_type": "markdown",
   "id": "338eb8d5",
   "metadata": {
    "papermill": {
     "duration": 0.056519,
     "end_time": "2021-09-12T03:18:43.157909",
     "exception": false,
     "start_time": "2021-09-12T03:18:43.101390",
     "status": "completed"
    },
    "tags": []
   },
   "source": [
    "Both CI intervals overlap plenty as $CI_{new}$ is completely contained within $CI_{old}$ , which means we do not reject the Null Hypothesis that $P_{new} = P_{old}$.\r\n",
    "\r\n",
    "    This means that the new page is not better than the old page.\r\n",
    "\r\n",
    "While our case is quite evident that the overlap is significantly clear, slight overlaps could tempt us to draw the same conclusion to reject the Null Hypothesis. However, this is a common misinterpretation of overlapping CIs when comparing groups. Failure to do so could result in incorrect or misleading conclusions being drawn (Tan & Tan, 2010, pp. 278)."
   ]
  },
  {
   "cell_type": "markdown",
   "id": "cdeba267",
   "metadata": {
    "papermill": {
     "duration": 0.048522,
     "end_time": "2021-09-12T03:18:43.259021",
     "exception": false,
     "start_time": "2021-09-12T03:18:43.210499",
     "status": "completed"
    },
    "tags": []
   },
   "source": [
    "<u><b>2. Z-test:</b></u>\r\n",
    "\r\n",
    "We can use existing packages to calculate our test statistic and p-values and test for proportions based on the z-test. This is similar to the Binomial Proportion Confidence Interval Test, is quantitatively easier to draw conclusions out of due to it returning a p-value:"
   ]
  },
  {
   "cell_type": "code",
   "execution_count": 20,
   "id": "7321cf2e",
   "metadata": {
    "execution": {
     "iopub.execute_input": "2021-09-12T03:18:43.363442Z",
     "iopub.status.busy": "2021-09-12T03:18:43.362612Z",
     "iopub.status.idle": "2021-09-12T03:18:44.272301Z",
     "shell.execute_reply": "2021-09-12T03:18:44.272853Z",
     "shell.execute_reply.started": "2021-09-12T03:18:17.142575Z"
    },
    "papermill": {
     "duration": 0.96563,
     "end_time": "2021-09-12T03:18:44.273076",
     "exception": false,
     "start_time": "2021-09-12T03:18:43.307446",
     "status": "completed"
    },
    "tags": []
   },
   "outputs": [],
   "source": [
    "import statsmodels.api as sm\r\n",
    "#returning the total number of conversions for each group:\r\n",
    "convert_old = df2.query(\"landing_page == 'old_page' and converted == 1\").shape[0]\r\n",
    "convert_new = df2.query(\"landing_page == 'new_page' and converted == 1\").shape[0]"
   ]
  },
  {
   "cell_type": "code",
   "execution_count": 21,
   "id": "6a58b0cb",
   "metadata": {
    "execution": {
     "iopub.execute_input": "2021-09-12T03:18:44.370675Z",
     "iopub.status.busy": "2021-09-12T03:18:44.370015Z",
     "iopub.status.idle": "2021-09-12T03:18:44.377351Z",
     "shell.execute_reply": "2021-09-12T03:18:44.376692Z",
     "shell.execute_reply.started": "2021-09-12T03:18:17.485728Z"
    },
    "papermill": {
     "duration": 0.057547,
     "end_time": "2021-09-12T03:18:44.377495",
     "exception": false,
     "start_time": "2021-09-12T03:18:44.319948",
     "status": "completed"
    },
    "tags": []
   },
   "outputs": [
    {
     "data": {
      "text/plain": [
       "(1.3109241984234394, 0.9050583127590245)"
      ]
     },
     "execution_count": 21,
     "metadata": {},
     "output_type": "execute_result"
    }
   ],
   "source": [
    "#calculating the z-score + p-value using the z-test (one-sided):\r\n",
    "z_score, p_value = sm.stats.proportions_ztest([convert_old, convert_new], [N_old, N_new], alternative='smaller')\r\n",
    "z_score, p_value"
   ]
  },
  {
   "cell_type": "markdown",
   "id": "d58dcbbe",
   "metadata": {
    "papermill": {
     "duration": 0.047889,
     "end_time": "2021-09-12T03:18:44.473688",
     "exception": false,
     "start_time": "2021-09-12T03:18:44.425799",
     "status": "completed"
    },
    "tags": []
   },
   "source": [
    "Given our p-value ≈ 0.9 > 0.05, we do not reject the Null Hypothesis.\r\n",
    "\r\n",
    "    This means that the new page is not better than the old page."
   ]
  },
  {
   "cell_type": "markdown",
   "id": "e5f09ea0",
   "metadata": {
    "papermill": {
     "duration": 0.046757,
     "end_time": "2021-09-12T03:18:44.567915",
     "exception": false,
     "start_time": "2021-09-12T03:18:44.521158",
     "status": "completed"
    },
    "tags": []
   },
   "source": [
    "<b><u>3. Hypothesis testing on d̂ and Effect Size:</u></b>\r\n",
    "\r\n",
    "A couple of methdologies are found in Udacity's A/B test course, where we also consider the pooled probability and standard deviations, under the assumption that the variances within each sample are equal (Shetty, 2016). The reason we do this is so we can do a z-test under the context of our Evaluation Metric $D_{min}$, and observe if our difference is practically significant to the business:\r\n",
    "\r\n",
    "\r\n",
    "$\\hat{p}_{pool} =\r\n",
    " \\frac{X_{new} + X_{old}}{N_{new} + N_{old}}$\r\n",
    "\r\n",
    "\r\n",
    "$SD_{pool} = \r\n",
    "\\sqrt{\\hat{p}_{pool}(1 - \\hat{p}_{pool})(\\frac{1}{N_{new}} + \\frac{1}{N_{old}})}$\r\n",
    "\r\n",
    "\r\n",
    "All under the null hypothesis of $\\hat{d} = P_{new} - P_{old}$ where $\\hat{d} \\sim N(0,SD_{pool})$.\r\n",
    "\r\n",
    "What we will perform is the same CI calculations we've done above, but using $SD$ as our standard deviations:\r\n",
    "\r\n",
    "$CI_{diff} =\r\n",
    " \\hat{d} \\ \\pm SE_{pool}$\r\n",
    "\r\n",
    "After $CI_{diff}$ is calculated, the change is statistically significant if 0 lies outside the $CI_{diff}$ (equivalent to the above z-test in terms of Hypothesis Testing). \r\n",
    "\r\n",
    "However, another additional conclusion we can draw is if our Evaluation Metric $D_{min}$ is practically significant if it is outside $CI_{diff}$, especially if $D_{min}$ is below $CI_{diff}$. However, there is no statistical test that can truly tell you whether the effect is large enough to be important, so some level of subject area knowledge and expertise must be applied whether the effect is big enough to be meaningful (Frost, 2018)."
   ]
  },
  {
   "cell_type": "markdown",
   "id": "98b6208b",
   "metadata": {
    "papermill": {
     "duration": 0.046975,
     "end_time": "2021-09-12T03:18:44.663775",
     "exception": false,
     "start_time": "2021-09-12T03:18:44.616800",
     "status": "completed"
    },
    "tags": []
   },
   "source": [
    "<u>F-test:</u>\r\n",
    "\r\n",
    "First, we must test if our variances between our treatment and control are significantly different. Therefore, we'll be using the F-test in Scipy Stats. Note that the F-Test is sensitive to non-normalities of groups, but our large enough sample size allows the Central Limit Theorem to take effect.\r\n"
   ]
  },
  {
   "cell_type": "code",
   "execution_count": 22,
   "id": "9ef6f979",
   "metadata": {
    "execution": {
     "iopub.execute_input": "2021-09-12T03:18:44.767092Z",
     "iopub.status.busy": "2021-09-12T03:18:44.766345Z",
     "iopub.status.idle": "2021-09-12T03:18:44.769565Z",
     "shell.execute_reply": "2021-09-12T03:18:44.768847Z",
     "shell.execute_reply.started": "2021-09-12T03:18:17.494618Z"
    },
    "papermill": {
     "duration": 0.055977,
     "end_time": "2021-09-12T03:18:44.769710",
     "exception": false,
     "start_time": "2021-09-12T03:18:44.713733",
     "status": "completed"
    },
    "tags": []
   },
   "outputs": [],
   "source": [
    "SE_new = mt.sqrt(P_new*(1-P_new)/N_new)\r\n",
    "SE_old = mt.sqrt(P_old*(1-P_old)/N_old)"
   ]
  },
  {
   "cell_type": "markdown",
   "id": "05403380",
   "metadata": {
    "papermill": {
     "duration": 0.04742,
     "end_time": "2021-09-12T03:18:44.864750",
     "exception": false,
     "start_time": "2021-09-12T03:18:44.817330",
     "status": "completed"
    },
    "tags": []
   },
   "source": [
    "Using the F-test (under the Null Hypothesis that the variances are equal) to determine if the variances within each sample are equal, noting that the p-value = 1 - CDF (Zach, 2020):\r\n"
   ]
  },
  {
   "cell_type": "code",
   "execution_count": 23,
   "id": "cc35e4ed",
   "metadata": {
    "execution": {
     "iopub.execute_input": "2021-09-12T03:18:44.968309Z",
     "iopub.status.busy": "2021-09-12T03:18:44.967316Z",
     "iopub.status.idle": "2021-09-12T03:18:44.971882Z",
     "shell.execute_reply": "2021-09-12T03:18:44.971255Z",
     "shell.execute_reply.started": "2021-09-12T03:18:17.505735Z"
    },
    "papermill": {
     "duration": 0.059831,
     "end_time": "2021-09-12T03:18:44.972021",
     "exception": false,
     "start_time": "2021-09-12T03:18:44.912190",
     "status": "completed"
    },
    "tags": []
   },
   "outputs": [
    {
     "data": {
      "text/plain": [
       "0.986811599380792"
      ]
     },
     "execution_count": 23,
     "metadata": {},
     "output_type": "execute_result"
    }
   ],
   "source": [
    "p = 1 - ss.f.cdf(pow(SE_new,2)/pow(SE_old,2), N_new - 1, N_old - 1)\r\n",
    "p"
   ]
  },
  {
   "cell_type": "markdown",
   "id": "e4f715d8",
   "metadata": {
    "papermill": {
     "duration": 0.047383,
     "end_time": "2021-09-12T03:18:45.067502",
     "exception": false,
     "start_time": "2021-09-12T03:18:45.020119",
     "status": "completed"
    },
    "tags": []
   },
   "source": [
    "Since the p-value is almost 1, we do not reject the Null Hypothesis that the variances are the same. Now that we've verified that our variances within each sample are equal, we'll continue calculating $CI_{diff}$ :"
   ]
  },
  {
   "cell_type": "code",
   "execution_count": 24,
   "id": "748fd1a9",
   "metadata": {
    "execution": {
     "iopub.execute_input": "2021-09-12T03:18:45.174749Z",
     "iopub.status.busy": "2021-09-12T03:18:45.168254Z",
     "iopub.status.idle": "2021-09-12T03:18:45.178869Z",
     "shell.execute_reply": "2021-09-12T03:18:45.178342Z",
     "shell.execute_reply.started": "2021-09-12T03:18:17.520332Z"
    },
    "papermill": {
     "duration": 0.061982,
     "end_time": "2021-09-12T03:18:45.179005",
     "exception": false,
     "start_time": "2021-09-12T03:18:45.117023",
     "status": "completed"
    },
    "tags": []
   },
   "outputs": [
    {
     "name": "stdout",
     "output_type": "stream",
     "text": [
      "The change due to the experiment is -0.16%\n",
      "Is 0 inside the interval of (-0.0039, 0.0008)?\n",
      "Is D_min = 0.0035 inside the interval of (-0.0039, 0.0008)?\n"
     ]
    }
   ],
   "source": [
    "#Calculating pooled standard deviation and pooled CI:\r\n",
    "d_hat = P_new - P_old\r\n",
    "SE_pool = mt.sqrt(P_pool*(1-P_pool)*(1/N_old+1/N_new))\r\n",
    "CI_diff = (d_hat - get_z_score(1-0.05/2)*SE_pool, d_hat + get_z_score(1-0.05/2)*SE_pool)\r\n",
    "print('The change due to the experiment is ' + str(round(d_hat,4)*100) + '%')\r\n",
    "print('Is 0 inside the interval of (' + str(round(CI_diff[0],4)) + ', ' + str(round(CI_diff[1],4)) +')?')\r\n",
    "print('Is D_min = 0.0035 inside the interval of (' + str(round(CI_diff[0],4)) + ', ' + str(round(CI_diff[1],4)) + ')?')  "
   ]
  },
  {
   "cell_type": "markdown",
   "id": "311ae4cb",
   "metadata": {
    "papermill": {
     "duration": 0.047365,
     "end_time": "2021-09-12T03:18:45.274241",
     "exception": false,
     "start_time": "2021-09-12T03:18:45.226876",
     "status": "completed"
    },
    "tags": []
   },
   "source": [
    "Because 0 falls within our $CI_{diff}$ interval, the change due to the experiment is not statistically significant, therefore we do not reject the Null Hypothesis that $\\hat{d} = P_{new} - P_{old}$ where $\\hat{d} \\sim N(0,SD_{pool})$. Furthermore, given our one-sided test where $D_{min}$ is above our confidence intervals, it is also not practically significant.\n",
    "\n",
    "    This means that the new page is not better than the old page.\n"
   ]
  },
  {
   "cell_type": "markdown",
   "id": "1e7b6352",
   "metadata": {
    "papermill": {
     "duration": 0.047402,
     "end_time": "2021-09-12T03:18:45.369552",
     "exception": false,
     "start_time": "2021-09-12T03:18:45.322150",
     "status": "completed"
    },
    "tags": []
   },
   "source": [
    "<b><u>4. Sign Test:</u></b>\r\n",
    "\r\n",
    "The last test to consider when picking a winner in an A/B test is a sign test - checking the trend of change we observe by day. If we check how many days the conversion was higher in the Treatment vs the New, we can use this as our number of successes for our binomial distribution. The null hypothesis of the sign test is that the population median is equal to some value $M$ - implying the observations greater than $M$ (denoted by $r^{+}$) are equal to the observations less than $M$ (denoted by $r^{-}$).\r\n",
    "\r\n",
    "Therefore, the Null Hypothesis is: $r^{+}, r^{-} \\sim Bin(n,p)$ where $p = \\frac{1}{2}$ (Shier, 2004).\r\n",
    "\r\n",
    "Note that we are only concerning ourselves with the number of days (observations) that the conversion was higher for Treatment > number of days that the conversion was higher for Control. Therfore, this will be a one-sided test and we'll divide the p-value by 2.\r\n"
   ]
  },
  {
   "cell_type": "code",
   "execution_count": 25,
   "id": "18056f5d",
   "metadata": {
    "execution": {
     "iopub.execute_input": "2021-09-12T03:18:45.471384Z",
     "iopub.status.busy": "2021-09-12T03:18:45.470714Z",
     "iopub.status.idle": "2021-09-12T03:18:45.483544Z",
     "shell.execute_reply": "2021-09-12T03:18:45.484026Z",
     "shell.execute_reply.started": "2021-09-12T03:18:17.535746Z"
    },
    "papermill": {
     "duration": 0.066843,
     "end_time": "2021-09-12T03:18:45.484211",
     "exception": false,
     "start_time": "2021-09-12T03:18:45.417368",
     "status": "completed"
    },
    "tags": []
   },
   "outputs": [],
   "source": [
    "#building out another dataframe that will be useful in a sign test:\r\n",
    "dfsign = df2[['timestamp','group','converted']]"
   ]
  },
  {
   "cell_type": "code",
   "execution_count": 26,
   "id": "d8a16d29",
   "metadata": {
    "execution": {
     "iopub.execute_input": "2021-09-12T03:18:45.583670Z",
     "iopub.status.busy": "2021-09-12T03:18:45.582986Z",
     "iopub.status.idle": "2021-09-12T03:18:45.788936Z",
     "shell.execute_reply": "2021-09-12T03:18:45.788287Z",
     "shell.execute_reply.started": "2021-09-12T03:18:17.559152Z"
    },
    "papermill": {
     "duration": 0.2571,
     "end_time": "2021-09-12T03:18:45.789079",
     "exception": false,
     "start_time": "2021-09-12T03:18:45.531979",
     "status": "completed"
    },
    "tags": []
   },
   "outputs": [
    {
     "name": "stderr",
     "output_type": "stream",
     "text": [
      "/opt/conda/lib/python3.7/site-packages/ipykernel_launcher.py:2: SettingWithCopyWarning: \n",
      "A value is trying to be set on a copy of a slice from a DataFrame.\n",
      "Try using .loc[row_indexer,col_indexer] = value instead\n",
      "\n",
      "See the caveats in the documentation: https://pandas.pydata.org/pandas-docs/stable/user_guide/indexing.html#returning-a-view-versus-a-copy\n",
      "  \n"
     ]
    }
   ],
   "source": [
    "#timestamp is a concatenation of date + exact time of user landing on the page. We only want the date, or 1st 10 characters:\r\n",
    "dfsign['timestamp'] = df2['timestamp'].astype(str).str[:10]"
   ]
  },
  {
   "cell_type": "code",
   "execution_count": 27,
   "id": "0125a11b",
   "metadata": {
    "execution": {
     "iopub.execute_input": "2021-09-12T03:18:45.898078Z",
     "iopub.status.busy": "2021-09-12T03:18:45.897011Z",
     "iopub.status.idle": "2021-09-12T03:18:45.901763Z",
     "shell.execute_reply": "2021-09-12T03:18:45.901089Z",
     "shell.execute_reply.started": "2021-09-12T03:18:17.779415Z"
    },
    "papermill": {
     "duration": 0.064006,
     "end_time": "2021-09-12T03:18:45.901924",
     "exception": false,
     "start_time": "2021-09-12T03:18:45.837918",
     "status": "completed"
    },
    "tags": []
   },
   "outputs": [
    {
     "data": {
      "text/html": [
       "<div>\n",
       "<style scoped>\n",
       "    .dataframe tbody tr th:only-of-type {\n",
       "        vertical-align: middle;\n",
       "    }\n",
       "\n",
       "    .dataframe tbody tr th {\n",
       "        vertical-align: top;\n",
       "    }\n",
       "\n",
       "    .dataframe thead th {\n",
       "        text-align: right;\n",
       "    }\n",
       "</style>\n",
       "<table border=\"1\" class=\"dataframe\">\n",
       "  <thead>\n",
       "    <tr style=\"text-align: right;\">\n",
       "      <th></th>\n",
       "      <th>timestamp</th>\n",
       "      <th>group</th>\n",
       "      <th>converted</th>\n",
       "    </tr>\n",
       "  </thead>\n",
       "  <tbody>\n",
       "    <tr>\n",
       "      <th>0</th>\n",
       "      <td>2017-01-21</td>\n",
       "      <td>control</td>\n",
       "      <td>0</td>\n",
       "    </tr>\n",
       "    <tr>\n",
       "      <th>1</th>\n",
       "      <td>2017-01-12</td>\n",
       "      <td>control</td>\n",
       "      <td>0</td>\n",
       "    </tr>\n",
       "    <tr>\n",
       "      <th>2</th>\n",
       "      <td>2017-01-11</td>\n",
       "      <td>treatment</td>\n",
       "      <td>0</td>\n",
       "    </tr>\n",
       "    <tr>\n",
       "      <th>3</th>\n",
       "      <td>2017-01-08</td>\n",
       "      <td>treatment</td>\n",
       "      <td>0</td>\n",
       "    </tr>\n",
       "    <tr>\n",
       "      <th>4</th>\n",
       "      <td>2017-01-21</td>\n",
       "      <td>control</td>\n",
       "      <td>1</td>\n",
       "    </tr>\n",
       "  </tbody>\n",
       "</table>\n",
       "</div>"
      ],
      "text/plain": [
       "    timestamp      group  converted\n",
       "0  2017-01-21    control          0\n",
       "1  2017-01-12    control          0\n",
       "2  2017-01-11  treatment          0\n",
       "3  2017-01-08  treatment          0\n",
       "4  2017-01-21    control          1"
      ]
     },
     "execution_count": 27,
     "metadata": {},
     "output_type": "execute_result"
    }
   ],
   "source": [
    "dfsign.head()"
   ]
  },
  {
   "cell_type": "code",
   "execution_count": 28,
   "id": "20e46776",
   "metadata": {
    "execution": {
     "iopub.execute_input": "2021-09-12T03:18:46.005836Z",
     "iopub.status.busy": "2021-09-12T03:18:46.004717Z",
     "iopub.status.idle": "2021-09-12T03:18:46.111998Z",
     "shell.execute_reply": "2021-09-12T03:18:46.111378Z",
     "shell.execute_reply.started": "2021-09-12T03:18:17.794786Z"
    },
    "papermill": {
     "duration": 0.160555,
     "end_time": "2021-09-12T03:18:46.112191",
     "exception": false,
     "start_time": "2021-09-12T03:18:45.951636",
     "status": "completed"
    },
    "tags": []
   },
   "outputs": [
    {
     "data": {
      "text/html": [
       "<div>\n",
       "<style scoped>\n",
       "    .dataframe tbody tr th:only-of-type {\n",
       "        vertical-align: middle;\n",
       "    }\n",
       "\n",
       "    .dataframe tbody tr th {\n",
       "        vertical-align: top;\n",
       "    }\n",
       "\n",
       "    .dataframe thead th {\n",
       "        text-align: right;\n",
       "    }\n",
       "</style>\n",
       "<table border=\"1\" class=\"dataframe\">\n",
       "  <thead>\n",
       "    <tr style=\"text-align: right;\">\n",
       "      <th></th>\n",
       "      <th>timestamp</th>\n",
       "      <th>group</th>\n",
       "      <th>converted</th>\n",
       "    </tr>\n",
       "  </thead>\n",
       "  <tbody>\n",
       "    <tr>\n",
       "      <th>0</th>\n",
       "      <td>2017-01-02</td>\n",
       "      <td>control</td>\n",
       "      <td>359</td>\n",
       "    </tr>\n",
       "    <tr>\n",
       "      <th>1</th>\n",
       "      <td>2017-01-02</td>\n",
       "      <td>treatment</td>\n",
       "      <td>342</td>\n",
       "    </tr>\n",
       "    <tr>\n",
       "      <th>2</th>\n",
       "      <td>2017-01-03</td>\n",
       "      <td>control</td>\n",
       "      <td>750</td>\n",
       "    </tr>\n",
       "    <tr>\n",
       "      <th>3</th>\n",
       "      <td>2017-01-03</td>\n",
       "      <td>treatment</td>\n",
       "      <td>753</td>\n",
       "    </tr>\n",
       "    <tr>\n",
       "      <th>4</th>\n",
       "      <td>2017-01-04</td>\n",
       "      <td>control</td>\n",
       "      <td>802</td>\n",
       "    </tr>\n",
       "    <tr>\n",
       "      <th>5</th>\n",
       "      <td>2017-01-04</td>\n",
       "      <td>treatment</td>\n",
       "      <td>763</td>\n",
       "    </tr>\n",
       "    <tr>\n",
       "      <th>6</th>\n",
       "      <td>2017-01-05</td>\n",
       "      <td>control</td>\n",
       "      <td>792</td>\n",
       "    </tr>\n",
       "    <tr>\n",
       "      <th>7</th>\n",
       "      <td>2017-01-05</td>\n",
       "      <td>treatment</td>\n",
       "      <td>748</td>\n",
       "    </tr>\n",
       "    <tr>\n",
       "      <th>8</th>\n",
       "      <td>2017-01-06</td>\n",
       "      <td>control</td>\n",
       "      <td>762</td>\n",
       "    </tr>\n",
       "    <tr>\n",
       "      <th>9</th>\n",
       "      <td>2017-01-06</td>\n",
       "      <td>treatment</td>\n",
       "      <td>833</td>\n",
       "    </tr>\n",
       "    <tr>\n",
       "      <th>10</th>\n",
       "      <td>2017-01-07</td>\n",
       "      <td>control</td>\n",
       "      <td>799</td>\n",
       "    </tr>\n",
       "    <tr>\n",
       "      <th>11</th>\n",
       "      <td>2017-01-07</td>\n",
       "      <td>treatment</td>\n",
       "      <td>768</td>\n",
       "    </tr>\n",
       "    <tr>\n",
       "      <th>12</th>\n",
       "      <td>2017-01-08</td>\n",
       "      <td>control</td>\n",
       "      <td>795</td>\n",
       "    </tr>\n",
       "    <tr>\n",
       "      <th>13</th>\n",
       "      <td>2017-01-08</td>\n",
       "      <td>treatment</td>\n",
       "      <td>809</td>\n",
       "    </tr>\n",
       "    <tr>\n",
       "      <th>14</th>\n",
       "      <td>2017-01-09</td>\n",
       "      <td>control</td>\n",
       "      <td>793</td>\n",
       "    </tr>\n",
       "    <tr>\n",
       "      <th>15</th>\n",
       "      <td>2017-01-09</td>\n",
       "      <td>treatment</td>\n",
       "      <td>781</td>\n",
       "    </tr>\n",
       "    <tr>\n",
       "      <th>16</th>\n",
       "      <td>2017-01-10</td>\n",
       "      <td>control</td>\n",
       "      <td>751</td>\n",
       "    </tr>\n",
       "    <tr>\n",
       "      <th>17</th>\n",
       "      <td>2017-01-10</td>\n",
       "      <td>treatment</td>\n",
       "      <td>846</td>\n",
       "    </tr>\n",
       "    <tr>\n",
       "      <th>18</th>\n",
       "      <td>2017-01-11</td>\n",
       "      <td>control</td>\n",
       "      <td>795</td>\n",
       "    </tr>\n",
       "    <tr>\n",
       "      <th>19</th>\n",
       "      <td>2017-01-11</td>\n",
       "      <td>treatment</td>\n",
       "      <td>768</td>\n",
       "    </tr>\n",
       "  </tbody>\n",
       "</table>\n",
       "</div>"
      ],
      "text/plain": [
       "     timestamp      group  converted\n",
       "0   2017-01-02    control        359\n",
       "1   2017-01-02  treatment        342\n",
       "2   2017-01-03    control        750\n",
       "3   2017-01-03  treatment        753\n",
       "4   2017-01-04    control        802\n",
       "5   2017-01-04  treatment        763\n",
       "6   2017-01-05    control        792\n",
       "7   2017-01-05  treatment        748\n",
       "8   2017-01-06    control        762\n",
       "9   2017-01-06  treatment        833\n",
       "10  2017-01-07    control        799\n",
       "11  2017-01-07  treatment        768\n",
       "12  2017-01-08    control        795\n",
       "13  2017-01-08  treatment        809\n",
       "14  2017-01-09    control        793\n",
       "15  2017-01-09  treatment        781\n",
       "16  2017-01-10    control        751\n",
       "17  2017-01-10  treatment        846\n",
       "18  2017-01-11    control        795\n",
       "19  2017-01-11  treatment        768"
      ]
     },
     "execution_count": 28,
     "metadata": {},
     "output_type": "execute_result"
    }
   ],
   "source": [
    "#grouping by timestamp and group will sum all the conversions for a group on a given day:\r\n",
    "dfsign2 = dfsign.groupby(['timestamp','group']).sum().reset_index()\r\n",
    "dfsign2.head(20)"
   ]
  },
  {
   "cell_type": "code",
   "execution_count": 29,
   "id": "c41f3aae",
   "metadata": {
    "execution": {
     "iopub.execute_input": "2021-09-12T03:18:46.245580Z",
     "iopub.status.busy": "2021-09-12T03:18:46.225489Z",
     "iopub.status.idle": "2021-09-12T03:18:46.249315Z",
     "shell.execute_reply": "2021-09-12T03:18:46.249764Z",
     "shell.execute_reply.started": "2021-09-12T03:18:17.909418Z"
    },
    "papermill": {
     "duration": 0.086446,
     "end_time": "2021-09-12T03:18:46.249983",
     "exception": false,
     "start_time": "2021-09-12T03:18:46.163537",
     "status": "completed"
    },
    "tags": []
   },
   "outputs": [
    {
     "data": {
      "text/html": [
       "<div>\n",
       "<style scoped>\n",
       "    .dataframe tbody tr th:only-of-type {\n",
       "        vertical-align: middle;\n",
       "    }\n",
       "\n",
       "    .dataframe tbody tr th {\n",
       "        vertical-align: top;\n",
       "    }\n",
       "\n",
       "    .dataframe thead tr th {\n",
       "        text-align: left;\n",
       "    }\n",
       "</style>\n",
       "<table border=\"1\" class=\"dataframe\">\n",
       "  <thead>\n",
       "    <tr>\n",
       "      <th></th>\n",
       "      <th>timestamp</th>\n",
       "      <th colspan=\"2\" halign=\"left\">converted</th>\n",
       "    </tr>\n",
       "    <tr>\n",
       "      <th>group</th>\n",
       "      <th></th>\n",
       "      <th>control</th>\n",
       "      <th>treatment</th>\n",
       "    </tr>\n",
       "  </thead>\n",
       "  <tbody>\n",
       "    <tr>\n",
       "      <th>0</th>\n",
       "      <td>2017-01-02</td>\n",
       "      <td>359</td>\n",
       "      <td>342</td>\n",
       "    </tr>\n",
       "    <tr>\n",
       "      <th>1</th>\n",
       "      <td>2017-01-03</td>\n",
       "      <td>750</td>\n",
       "      <td>753</td>\n",
       "    </tr>\n",
       "    <tr>\n",
       "      <th>2</th>\n",
       "      <td>2017-01-04</td>\n",
       "      <td>802</td>\n",
       "      <td>763</td>\n",
       "    </tr>\n",
       "    <tr>\n",
       "      <th>3</th>\n",
       "      <td>2017-01-05</td>\n",
       "      <td>792</td>\n",
       "      <td>748</td>\n",
       "    </tr>\n",
       "    <tr>\n",
       "      <th>4</th>\n",
       "      <td>2017-01-06</td>\n",
       "      <td>762</td>\n",
       "      <td>833</td>\n",
       "    </tr>\n",
       "    <tr>\n",
       "      <th>5</th>\n",
       "      <td>2017-01-07</td>\n",
       "      <td>799</td>\n",
       "      <td>768</td>\n",
       "    </tr>\n",
       "  </tbody>\n",
       "</table>\n",
       "</div>"
      ],
      "text/plain": [
       "        timestamp converted          \n",
       "group               control treatment\n",
       "0      2017-01-02       359       342\n",
       "1      2017-01-03       750       753\n",
       "2      2017-01-04       802       763\n",
       "3      2017-01-05       792       748\n",
       "4      2017-01-06       762       833\n",
       "5      2017-01-07       799       768"
      ]
     },
     "execution_count": 29,
     "metadata": {},
     "output_type": "execute_result"
    }
   ],
   "source": [
    "#pivot the table, keeping the timestamps along the rows, the groups now in the columns and the sum of conversions as our values:\r\n",
    "dfsign3 = dfsign2.pivot(index=['timestamp'],columns=['group'],values=['converted']).reset_index()\r\n",
    "dfsign3.head(6)"
   ]
  },
  {
   "cell_type": "code",
   "execution_count": 30,
   "id": "1765ed28",
   "metadata": {
    "execution": {
     "iopub.execute_input": "2021-09-12T03:18:46.368510Z",
     "iopub.status.busy": "2021-09-12T03:18:46.367586Z",
     "iopub.status.idle": "2021-09-12T03:18:46.372296Z",
     "shell.execute_reply": "2021-09-12T03:18:46.371601Z",
     "shell.execute_reply.started": "2021-09-12T03:18:17.933596Z"
    },
    "papermill": {
     "duration": 0.071651,
     "end_time": "2021-09-12T03:18:46.372462",
     "exception": false,
     "start_time": "2021-09-12T03:18:46.300811",
     "status": "completed"
    },
    "tags": []
   },
   "outputs": [
    {
     "data": {
      "text/html": [
       "<div>\n",
       "<style scoped>\n",
       "    .dataframe tbody tr th:only-of-type {\n",
       "        vertical-align: middle;\n",
       "    }\n",
       "\n",
       "    .dataframe tbody tr th {\n",
       "        vertical-align: top;\n",
       "    }\n",
       "\n",
       "    .dataframe thead tr th {\n",
       "        text-align: left;\n",
       "    }\n",
       "</style>\n",
       "<table border=\"1\" class=\"dataframe\">\n",
       "  <thead>\n",
       "    <tr>\n",
       "      <th></th>\n",
       "      <th>timestamp</th>\n",
       "      <th colspan=\"2\" halign=\"left\">converted</th>\n",
       "      <th>sign</th>\n",
       "    </tr>\n",
       "    <tr>\n",
       "      <th>group</th>\n",
       "      <th></th>\n",
       "      <th>control</th>\n",
       "      <th>treatment</th>\n",
       "      <th></th>\n",
       "    </tr>\n",
       "  </thead>\n",
       "  <tbody>\n",
       "    <tr>\n",
       "      <th>0</th>\n",
       "      <td>2017-01-02</td>\n",
       "      <td>359</td>\n",
       "      <td>342</td>\n",
       "      <td>0</td>\n",
       "    </tr>\n",
       "    <tr>\n",
       "      <th>1</th>\n",
       "      <td>2017-01-03</td>\n",
       "      <td>750</td>\n",
       "      <td>753</td>\n",
       "      <td>1</td>\n",
       "    </tr>\n",
       "    <tr>\n",
       "      <th>2</th>\n",
       "      <td>2017-01-04</td>\n",
       "      <td>802</td>\n",
       "      <td>763</td>\n",
       "      <td>0</td>\n",
       "    </tr>\n",
       "    <tr>\n",
       "      <th>3</th>\n",
       "      <td>2017-01-05</td>\n",
       "      <td>792</td>\n",
       "      <td>748</td>\n",
       "      <td>0</td>\n",
       "    </tr>\n",
       "    <tr>\n",
       "      <th>4</th>\n",
       "      <td>2017-01-06</td>\n",
       "      <td>762</td>\n",
       "      <td>833</td>\n",
       "      <td>1</td>\n",
       "    </tr>\n",
       "  </tbody>\n",
       "</table>\n",
       "</div>"
      ],
      "text/plain": [
       "        timestamp converted           sign\n",
       "group               control treatment     \n",
       "0      2017-01-02       359       342    0\n",
       "1      2017-01-03       750       753    1\n",
       "2      2017-01-04       802       763    0\n",
       "3      2017-01-05       792       748    0\n",
       "4      2017-01-06       762       833    1"
      ]
     },
     "execution_count": 30,
     "metadata": {},
     "output_type": "execute_result"
    }
   ],
   "source": [
    "#building out a conditional column - we want it to be 1 when the treatment did better than the control, else 0:\r\n",
    "dfsign3['sign'] = np.where(dfsign3[('converted','treatment')] > dfsign3[('converted','control')], 1,0)\r\n",
    "dfsign3.head()"
   ]
  },
  {
   "cell_type": "code",
   "execution_count": 31,
   "id": "c6a3440f",
   "metadata": {
    "execution": {
     "iopub.execute_input": "2021-09-12T03:18:46.482697Z",
     "iopub.status.busy": "2021-09-12T03:18:46.481793Z",
     "iopub.status.idle": "2021-09-12T03:18:46.485271Z",
     "shell.execute_reply": "2021-09-12T03:18:46.485747Z",
     "shell.execute_reply.started": "2021-09-12T03:18:17.950198Z"
    },
    "papermill": {
     "duration": 0.062541,
     "end_time": "2021-09-12T03:18:46.485970",
     "exception": false,
     "start_time": "2021-09-12T03:18:46.423429",
     "status": "completed"
    },
    "tags": []
   },
   "outputs": [
    {
     "name": "stdout",
     "output_type": "stream",
     "text": [
      "We have 10 out of 23 days where the total daily treatment conversions was greater than its control counterpart. This brings our probability of success to be 0.4348.\n"
     ]
    }
   ],
   "source": [
    "#find the total number of times that our daily treatment conversion was greater than our daily control conversion\r\n",
    "successes = dfsign3[('sign','')].sum()\r\n",
    "p_sign = successes/dfsign3.shape[0]\r\n",
    "print('We have ' + str(successes) + ' out of ' + str(dfsign3.shape[0]) + ' days where the total daily treatment conversions was greater than its control counterpart. This brings our probability of success to be ' + str(round(p_sign,4)) + '.')"
   ]
  },
  {
   "cell_type": "markdown",
   "id": "78646d25",
   "metadata": {
    "papermill": {
     "duration": 0.05116,
     "end_time": "2021-09-12T03:18:46.588402",
     "exception": false,
     "start_time": "2021-09-12T03:18:46.537242",
     "status": "completed"
    },
    "tags": []
   },
   "source": [
    "It's finally time to do our sign test - it is a relatively simple test (statistically speaking) which can be done via an online calculator:\r\n",
    "\r\n",
    "https://www.graphpad.com/quickcalcs/binomial1/\r\n",
    "\r\n",
    "The calculator also provides a sound explanation on the stats behind it after inputting your variables. However, we'll go the extra mile to quickly work out our p-values:"
   ]
  },
  {
   "cell_type": "code",
   "execution_count": 32,
   "id": "cbe0ddf8",
   "metadata": {
    "execution": {
     "iopub.execute_input": "2021-09-12T03:18:46.699199Z",
     "iopub.status.busy": "2021-09-12T03:18:46.698509Z",
     "iopub.status.idle": "2021-09-12T03:18:46.701168Z",
     "shell.execute_reply": "2021-09-12T03:18:46.700540Z",
     "shell.execute_reply.started": "2021-09-12T03:18:17.960919Z"
    },
    "papermill": {
     "duration": 0.06096,
     "end_time": "2021-09-12T03:18:46.701325",
     "exception": false,
     "start_time": "2021-09-12T03:18:46.640365",
     "status": "completed"
    },
    "tags": []
   },
   "outputs": [],
   "source": [
    "#binomial distribution:\r\n",
    "def bin(x,n):\r\n",
    "    return mt.factorial(n)/(mt.factorial(x)*mt.factorial(n-x))*0.5**x*0.5**(n-x)\r\n",
    "\r\n",
    "#sum all successes up until our desired success:   \r\n",
    "def get_1side_pvalue(x,n):\r\n",
    "    return list(itertools.accumulate([bin(i,n) for i in range(0,x+1)]))[-1]\r\n"
   ]
  },
  {
   "cell_type": "code",
   "execution_count": 33,
   "id": "a4fd1444",
   "metadata": {
    "execution": {
     "iopub.execute_input": "2021-09-12T03:18:46.811810Z",
     "iopub.status.busy": "2021-09-12T03:18:46.811004Z",
     "iopub.status.idle": "2021-09-12T03:18:46.814639Z",
     "shell.execute_reply": "2021-09-12T03:18:46.815143Z",
     "shell.execute_reply.started": "2021-09-12T03:18:17.972646Z"
    },
    "papermill": {
     "duration": 0.061576,
     "end_time": "2021-09-12T03:18:46.815313",
     "exception": false,
     "start_time": "2021-09-12T03:18:46.753737",
     "status": "completed"
    },
    "tags": []
   },
   "outputs": [
    {
     "name": "stdout",
     "output_type": "stream",
     "text": [
      "The two-sided P-value is 0.6776\n",
      "The one-sided P-value is 0.3388\n"
     ]
    }
   ],
   "source": [
    "\n",
    "print('The two-sided P-value is ' + str(round(2*get_1side_pvalue(successes,dfsign3.shape[0]),4)))\r\n",
    "print('The one-sided P-value is ' + str(round(get_1side_pvalue(successes,dfsign3.shape[0]),4)))"
   ]
  },
  {
   "cell_type": "markdown",
   "id": "494449b6",
   "metadata": {
    "papermill": {
     "duration": 0.05101,
     "end_time": "2021-09-12T03:18:46.918278",
     "exception": false,
     "start_time": "2021-09-12T03:18:46.867268",
     "status": "completed"
    },
    "tags": []
   },
   "source": [
    "Given our one-sided p-value = 0.3388 > 0.05, we do not reject the Null Hypothesis that there is no difference between the groups.\r\n",
    "    \r\n",
    "    This means that the new page is not better than the old page.\r\n"
   ]
  },
  {
   "cell_type": "markdown",
   "id": "ae3375bf",
   "metadata": {
    "papermill": {
     "duration": 0.051074,
     "end_time": "2021-09-12T03:18:47.021112",
     "exception": false,
     "start_time": "2021-09-12T03:18:46.970038",
     "status": "completed"
    },
    "tags": []
   },
   "source": [
    "<u><b>5. Chi-Squared Test:</b></u>\n",
    "\n",
    "One statistical test that came out from one of LinkedIn Learning's A/B testing courses (Wahi, 2020) is the Chi-Squared Analysis (or $\\chi^{2}$ test). If we constructed a 2x2 contingency table for our observed frequencies in our dataset, and compared it to a 2x2 contingency table for the expected frequencies in our dataset, we can perform the $\\chi^{2}$ test under the Null Hypothesis that there is no relationship that exists on between our conversion vs their treatment/control group in the population.\n",
    "\n",
    "For reference, our 2x2 contingency table will have two groups: treatment/control or converted/not converted. We want to make 4 calculations that will be in our table:\n",
    "1. Treatment, converted\n",
    "2. Treatment, not converted\n",
    "3. Control, converted\n",
    "4. Control, not converted"
   ]
  },
  {
   "cell_type": "code",
   "execution_count": 34,
   "id": "4964aff4",
   "metadata": {
    "execution": {
     "iopub.execute_input": "2021-09-12T03:18:47.130853Z",
     "iopub.status.busy": "2021-09-12T03:18:47.130169Z",
     "iopub.status.idle": "2021-09-12T03:18:47.137855Z",
     "shell.execute_reply": "2021-09-12T03:18:47.137201Z",
     "shell.execute_reply.started": "2021-09-12T03:18:17.986890Z"
    },
    "papermill": {
     "duration": 0.065767,
     "end_time": "2021-09-12T03:18:47.137997",
     "exception": false,
     "start_time": "2021-09-12T03:18:47.072230",
     "status": "completed"
    },
    "tags": []
   },
   "outputs": [
    {
     "data": {
      "text/plain": [
       "array([[ 17264, 709286],\n",
       "       [ 17489, 708881]])"
      ]
     },
     "execution_count": 34,
     "metadata": {},
     "output_type": "execute_result"
    }
   ],
   "source": [
    "#doing the 4 calculations as above:\n",
    "treatment_converted = treatment_df.converted.sum()\n",
    "treatment_not_converted = treatment_df.size - treatment_df.converted.sum()\n",
    "control_converted = control_df.converted.sum()\n",
    "control_not_converted = control_df.size - control_df.converted.sum()\n",
    "\n",
    "#create the array to do our chi-squared test: treatment/control along the rows and converted/not converted along the columns:\n",
    "Chi = np.array([[treatment_converted,treatment_not_converted],[control_converted,control_not_converted]])\n",
    "Chi"
   ]
  },
  {
   "cell_type": "code",
   "execution_count": 35,
   "id": "9631cfd6",
   "metadata": {
    "execution": {
     "iopub.execute_input": "2021-09-12T03:18:47.249719Z",
     "iopub.status.busy": "2021-09-12T03:18:47.248994Z",
     "iopub.status.idle": "2021-09-12T03:18:47.252725Z",
     "shell.execute_reply": "2021-09-12T03:18:47.252067Z",
     "shell.execute_reply.started": "2021-09-12T03:18:18.002841Z"
    },
    "papermill": {
     "duration": 0.062647,
     "end_time": "2021-09-12T03:18:47.252874",
     "exception": false,
     "start_time": "2021-09-12T03:18:47.190227",
     "status": "completed"
    },
    "tags": []
   },
   "outputs": [
    {
     "name": "stdout",
     "output_type": "stream",
     "text": [
      "0.2131252933770616\n"
     ]
    }
   ],
   "source": [
    "#using scipt stats to perform our chi squared test:\n",
    "print(ss.chi2_contingency(Chi,correction=False)[1])"
   ]
  },
  {
   "cell_type": "markdown",
   "id": "a07cb84e",
   "metadata": {
    "papermill": {
     "duration": 0.055137,
     "end_time": "2021-09-12T03:18:47.360875",
     "exception": false,
     "start_time": "2021-09-12T03:18:47.305738",
     "status": "completed"
    },
    "tags": []
   },
   "source": [
    "Given our p-value = 0.2131 > 0.05, we do not reject the Null Hypothesis that the assigned treatment/control group has no effect on conversion.\n",
    "    \n",
    "    This means that the new page is not better than the old page."
   ]
  },
  {
   "cell_type": "markdown",
   "id": "7d30706e",
   "metadata": {
    "papermill": {
     "duration": 0.051577,
     "end_time": "2021-09-12T03:18:47.465403",
     "exception": false,
     "start_time": "2021-09-12T03:18:47.413826",
     "status": "completed"
    },
    "tags": []
   },
   "source": [
    "<b><u>Conclusion:</u></b>\r\n",
    "\r\n",
    "The A/B experiment was designed to determine if <b>FaceZonGoogAppFlix</b>'s new webpage would improve the conversion rate of their users compared to their existing one. \r\n",
    "\r\n",
    "After going through Metric checks, minimum sample size requirements and multiple statistical methods to determine a winner of the A/B test, We've seen that <b>FaceZonGoogAppFlix</b>'s underlying goal had not been reached with their new webpage. \r\n",
    "\r\n",
    "Therefore, we recommend that to not continue with the new webpage change, but pursue other experiments."
   ]
  },
  {
   "cell_type": "markdown",
   "id": "b31ae981",
   "metadata": {
    "papermill": {
     "duration": 0.051396,
     "end_time": "2021-09-12T03:18:47.569049",
     "exception": false,
     "start_time": "2021-09-12T03:18:47.517653",
     "status": "completed"
    },
    "tags": []
   },
   "source": [
    "<b><u>Discussion:</u></b>\r\n",
    "\r\n",
    "\r\n",
    "While this was a satisfactory A/B test, A/B test data in a real-life setting will not be as clear-cut as what we've been provided.\r\n",
    "\r\n",
    "Designing the A/B test involves many steps to prevent factors that threaten your validity:\r\n",
    "\r\n",
    "1. Issues such as the seasonality effect need to be heavily considered. An individual user's behaviour will change a lot depending on time, what day of the week it is (weekday vs weekend) and seasonality. A solution would be the hold-back method: launch the change to everyone except for one small hold-back group of users, and continue comparing their behavior to the control group (Peng, 2017). In our case, our A/B test was run over a duration of over 3 weeks right after the New Year, which should smooth out seasonality effects.\r\n",
    "\r\n",
    "2. Other noteworthy and more direct psychological effects are change aversion and the novelty effect which affect our treatment group. Cohort Analysis may be helpful (Peng, 2017).\r\n",
    "\r\n",
    "3. There can be statistical issues such as Interference, where the assumption of independence is violated between treatment and control groups. Interference will result in what is often known as the overestimation bias, because resources are being co-utilized by members in both control and treatment groups (Rosidi, 2021).\r\n",
    "\r\n",
    "4. Business Impact discussions can involve engineering costs/maintenance, customer support, opportunity cost, etc. If we run a successful A/B test and decide on changing our website that results in a worthwhile increase in our metric, but our ongoing costs off-set this, then that must be taken into consideration (Peng, 2017).\r\n",
    "\r\n",
    "5. There are even considerably minute effects that could poison our A/B test data, such as the flicker effect: This is when the original variation flashes on the treatment user's screens before variation B gets loaded (Dube, 2019)."
   ]
  },
  {
   "cell_type": "markdown",
   "id": "ddbe80d9",
   "metadata": {
    "papermill": {
     "duration": 0.052017,
     "end_time": "2021-09-12T03:18:47.675065",
     "exception": false,
     "start_time": "2021-09-12T03:18:47.623048",
     "status": "completed"
    },
    "tags": []
   },
   "source": [
    "<b><u>References:</u></b>\n",
    "\n",
    "Data Science Dojo (2018) <i>What is A/B Testing? | Data Science in Minutes</i>, Youtube.\n",
    "\n",
    "Dube, S. (2019) <i>Top 6 A/B Testing Questions Answered | #CRO </i>, Invesp.\n",
    "\n",
    "Frost, J. (2018) <i>Practical vs. Statistical Significance</i>,  Statistics by Jim.\n",
    "\n",
    "jkndrkn (2012) <i>Safely determining sample size for A/B testing</i>, Stats.stackexchange.\n",
    "\n",
    "Kohavi, R., Tang, D. & Xu, Y. (2020) <i>Trustworthy Online Controlled Experiments - A practical guide to A/B Testing</i>, Cambridge University Press.\n",
    "\n",
    "Lan (2011) <i>SRelation between confidence interval and testing statistical hypothesis for t-test</i>, Stats.stackexchange.\n",
    "\n",
    "Peng, K. (2017) <i>A Summary of Udacity A/B Testing Course</i>, Towards Data Science.\n",
    "\n",
    "Rosidi, N. (2021) <i>A/B Testing Data Science Interview Questions Guide</i>, Stratascratch.\n",
    "\n",
    "Saleh, K. (2018) <i>How To Calculate A/B Testing Sample Size</i>, Invesp.\n",
    "\n",
    "Shetty, N. (2016) <i>A/B Testing - AWS</i>, Rstudio.\n",
    "\n",
    "Shier, R. (2004) <i>Statistics: 2.1 The sign test</i>, Mathematics Learning Support Centre.\n",
    "\n",
    "Tan, S. G. & Tan, S. B. (2010) <i>The Correct Interpretation of Confidence Intervals</i>, Proceedings of Singapore Healthcare, Volume 19, Number 3.\n",
    "\n",
    "van Belle, G. (2008) <i>Statistical Rules of Thumb. 2nd edition</i>, WileyInterscience.\n",
    "\n",
    "Wahi, M. (2020) <i>The Data Science of Experimental Design</i>, LinkedIn Learning.\n",
    "\n",
    "Yu, P. (2020) <i>Understanding Power Analysis in AB Testing</i>, Towards Data Science.\n",
    "\n",
    "Zach (2020) <i>How to Perform an F-Test in Python</i>, Statology.\n",
    "\n",
    "zthomas.nc (2019) <i>AB test sample size calculation by hand</i>, Stats.stackexchange. hand.</i>, Stats.stackexchange."
   ]
  },
  {
   "cell_type": "markdown",
   "id": "ae649c13",
   "metadata": {
    "papermill": {
     "duration": 0.052363,
     "end_time": "2021-09-12T03:18:47.779694",
     "exception": false,
     "start_time": "2021-09-12T03:18:47.727331",
     "status": "completed"
    },
    "tags": []
   },
   "source": []
  }
 ],
 "metadata": {
  "kernelspec": {
   "display_name": "Python 3",
   "language": "python",
   "name": "python3"
  },
  "language_info": {
   "codemirror_mode": {
    "name": "ipython",
    "version": 3
   },
   "file_extension": ".py",
   "mimetype": "text/x-python",
   "name": "python",
   "nbconvert_exporter": "python",
   "pygments_lexer": "ipython3",
   "version": "3.7.10"
  },
  "papermill": {
   "default_parameters": {},
   "duration": 20.813167,
   "end_time": "2021-09-12T03:18:50.624712",
   "environment_variables": {},
   "exception": null,
   "input_path": "__notebook__.ipynb",
   "output_path": "__notebook__.ipynb",
   "parameters": {},
   "start_time": "2021-09-12T03:18:29.811545",
   "version": "2.3.3"
  }
 },
 "nbformat": 4,
 "nbformat_minor": 5
}
