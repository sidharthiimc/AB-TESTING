{
 "cells": [
  {
   "cell_type": "markdown",
   "metadata": {},
   "source": [
    "### Analysis of Purchase Data "
   ]
  },
  {
   "cell_type": "markdown",
   "metadata": {},
   "source": [
    "Let's take a look at purchase data from some ecommerce companies"
   ]
  },
  {
   "cell_type": "code",
   "execution_count": 87,
   "metadata": {},
   "outputs": [],
   "source": [
    "import pandas as pd\n",
    "import numpy as np\n",
    "import datetime\n",
    "from scipy.stats import chi2_contingency, beta, lognorm, norm, invgamma\n",
    "from IPython.display import Image"
   ]
  },
  {
   "cell_type": "markdown",
   "metadata": {},
   "source": [
    "Here is a cool dataset: https://www.kaggle.com/benroshan/ecommerce-data?select=Order+Details.csv"
   ]
  },
  {
   "cell_type": "code",
   "execution_count": 88,
   "metadata": {},
   "outputs": [
    {
     "data": {
      "text/plain": [
       "<AxesSubplot:ylabel='Frequency'>"
      ]
     },
     "execution_count": 88,
     "metadata": {},
     "output_type": "execute_result"
    },
    {
     "data": {
      "image/png": "[encoded data removed]",
      "text/plain": [
       "<Figure size 432x288 with 1 Axes>"
      ]
     },
     "metadata": {
      "needs_background": "light"
     },
     "output_type": "display_data"
    }
   ],
   "source": [
    "data = pd.read_csv('csv/orders_shop_1.csv')\n",
    "data['Amount'][data['Amount'] < data.quantile(0.95)['Amount']].plot.hist(bins=100)"
   ]
  },
  {
   "cell_type": "code",
   "execution_count": 89,
   "metadata": {},
   "outputs": [
    {
     "data": {
      "text/plain": [
       "<AxesSubplot:ylabel='Frequency'>"
      ]
     },
     "execution_count": 89,
     "metadata": {},
     "output_type": "execute_result"
    },
    {
     "data": {
      "image/png": "[encoded data removed]",
      "text/plain": [
       "<Figure size 432x288 with 1 Axes>"
      ]
     },
     "metadata": {
      "needs_background": "light"
     },
     "output_type": "display_data"
    }
   ],
   "source": [
    "prices = data['Amount'][\n",
    "            (data['Amount'] < data.quantile(0.95)['Amount']) & \n",
    "            (data['Amount'] > 0)]\n",
    "np.log(prices).plot.hist(bins=50)"
   ]
  },
  {
   "cell_type": "markdown",
   "metadata": {},
   "source": [
    "Another cool dataset: https://www.kaggle.com/zusmani/pakistans-largest-ecommerce-dataset"
   ]
  },
  {
   "cell_type": "code",
   "execution_count": 90,
   "metadata": {},
   "outputs": [
    {
     "data": {
      "text/plain": [
       "<AxesSubplot:ylabel='Frequency'>"
      ]
     },
     "execution_count": 90,
     "metadata": {},
     "output_type": "execute_result"
    },
    {
     "data": {
      "image/png": "[encoded data removed]",
      "text/plain": [
       "<Figure size 432x288 with 1 Axes>"
      ]
     },
     "metadata": {
      "needs_background": "light"
     },
     "output_type": "display_data"
    }
   ],
   "source": [
    "data = pd.read_csv('csv/orders_shop_2.csv', low_memory=False)\n",
    "data = data[data['status']=='complete']\n",
    "data['price'][data['price'] < data.quantile(0.9)['price']].plot.hist(bins=100)"
   ]
  },
  {
   "cell_type": "markdown",
   "metadata": {},
   "source": [
    "In both cases, purchase data is can be modeled by a **log normal distribution**. A lot of prices are low, a few prices are high. The log of these prices follow a normal distribution for the most part"
   ]
  },
  {
   "cell_type": "code",
   "execution_count": 91,
   "metadata": {},
   "outputs": [
    {
     "data": {
      "text/plain": [
       "<AxesSubplot:ylabel='Frequency'>"
      ]
     },
     "execution_count": 91,
     "metadata": {},
     "output_type": "execute_result"
    },
    {
     "data": {
      "image/png": "[encoded data removed]",
      "text/plain": [
       "<Figure size 432x288 with 1 Axes>"
      ]
     },
     "metadata": {
      "needs_background": "light"
     },
     "output_type": "display_data"
    }
   ],
   "source": [
    "prices = data['price'][\n",
    "            (data['price'] < data.quantile(0.9)['price']) & \n",
    "            (data['price'] > 0)]\n",
    "np.log(prices).plot.hist(bins=100)"
   ]
  },
  {
   "cell_type": "markdown",
   "metadata": {},
   "source": [
    "### Create Distributions"
   ]
  },
  {
   "cell_type": "code",
   "execution_count": 92,
   "metadata": {},
   "outputs": [],
   "source": [
    "data = pd.read_csv('csv/orders_shop_1.csv')\n",
    "data['price'] = data['Amount']\n",
    "data = data[\n",
    "            (data['price'] < data.quantile(0.95)['price']) & \n",
    "            (data['price'] > 0)]"
   ]
  },
  {
   "cell_type": "code",
   "execution_count": 93,
   "metadata": {},
   "outputs": [],
   "source": [
    "# data = pd.read_csv('data/orders_shop_2.csv', low_memory=False)\n",
    "# data = data[(data['status']=='complete') & \n",
    "#             (data['price'] > 0) & \n",
    "#             (data['price'] < data.quantile(0.9)['price'])]"
   ]
  },
  {
   "cell_type": "code",
   "execution_count": 94,
   "metadata": {},
   "outputs": [],
   "source": [
    "data = data.reset_index().drop('index', axis=1)\n",
    "sigma, loc, scale = lognorm.fit(data['price'], floc=0)\n",
    "control_price_sampler = lognorm(sigma, loc, scale)"
   ]
  },
  {
   "cell_type": "code",
   "execution_count": 95,
   "metadata": {},
   "outputs": [
    {
     "data": {
      "text/plain": [
       "(1.2003967898192194, 0.0, 107.68628337370997)"
      ]
     },
     "execution_count": 95,
     "metadata": {},
     "output_type": "execute_result"
    }
   ],
   "source": [
    "sigma, loc, scale"
   ]
  },
  {
   "cell_type": "code",
   "execution_count": 96,
   "metadata": {},
   "outputs": [
    {
     "data": {
      "text/plain": [
       "<AxesSubplot:ylabel='Frequency'>"
      ]
     },
     "execution_count": 96,
     "metadata": {},
     "output_type": "execute_result"
    },
    {
     "data": {
      "image/png": "[encoded data removed]",
      "text/plain": [
       "<Figure size 432x288 with 1 Axes>"
      ]
     },
     "metadata": {
      "needs_background": "light"
     },
     "output_type": "display_data"
    }
   ],
   "source": [
    "pd.Series(control_price_sampler.rvs(500)).plot.hist(bins=50)"
   ]
  },
  {
   "cell_type": "code",
   "execution_count": 97,
   "metadata": {},
   "outputs": [],
   "source": [
    "price_change_distribution = norm(loc=25, scale=5)\n",
    "price_changes = price_change_distribution.rvs(data['price'].shape[0])\n",
    "treatment_prices = data['price'] + pd.Series(price_changes)\n",
    "treatment_prices = treatment_prices[treatment_prices > 0] # For valid lognormal fitting"
   ]
  },
  {
   "cell_type": "code",
   "execution_count": 98,
   "metadata": {},
   "outputs": [],
   "source": [
    "sigma, loc, scale = lognorm.fit(treatment_prices, floc=0)\n",
    "treatment_price_sampler = lognorm(sigma, loc, scale)"
   ]
  },
  {
   "cell_type": "code",
   "execution_count": 99,
   "metadata": {},
   "outputs": [
    {
     "data": {
      "text/plain": [
       "(0.9304919292889252, 0.0, 148.00719270640306)"
      ]
     },
     "execution_count": 99,
     "metadata": {},
     "output_type": "execute_result"
    }
   ],
   "source": [
    "sigma, loc, scale"
   ]
  },
  {
   "cell_type": "code",
   "execution_count": 100,
   "metadata": {},
   "outputs": [
    {
     "data": {
      "text/plain": [
       "<AxesSubplot:ylabel='Frequency'>"
      ]
     },
     "execution_count": 100,
     "metadata": {},
     "output_type": "execute_result"
    },
    {
     "data": {
      "image/png": "[encoded data removed]",
      "text/plain": [
       "<Figure size 432x288 with 1 Axes>"
      ]
     },
     "metadata": {
      "needs_background": "light"
     },
     "output_type": "display_data"
    }
   ],
   "source": [
    "pd.Series(treatment_price_sampler.rvs(500)).plot.hist(bins=50)"
   ]
  },
  {
   "cell_type": "markdown",
   "metadata": {},
   "source": [
    "### Create Dataset"
   ]
  },
  {
   "cell_type": "code",
   "execution_count": 101,
   "metadata": {},
   "outputs": [
    {
     "name": "stdout",
     "output_type": "stream",
     "text": [
      "Number of unique users in experiment: 286690\n",
      "Data collected for 21 days\n",
      "Landing pages to compare: ['old_page', 'new_page']\n",
      "Percentage of users in control: 50%\n"
     ]
    }
   ],
   "source": [
    "df = pd.read_csv('data/ab_data.csv')\n",
    "\n",
    "## Remove users exposed to both groups\n",
    "counter = df['user_id'].value_counts()\n",
    "valid_users = pd.DataFrame(counter[counter == 1].index, columns=['user_id'])\n",
    "df = df.merge(valid_users, on=['user_id'])\n",
    "df['week'] = df['timestamp'].apply(lambda x: datetime.datetime.strptime(x, '%Y-%m-%d %H:%M:%S.%f').isocalendar()[1])\n",
    "\n",
    "## Get stats\n",
    "start_time = datetime.datetime.strptime(df['timestamp'].min(), '%Y-%m-%d %H:%M:%S.%f')\n",
    "end_time = datetime.datetime.strptime(df['timestamp'].max(), '%Y-%m-%d %H:%M:%S.%f')\n",
    "data_duration = (end_time - start_time).days\n",
    "\n",
    "print(f\"Number of unique users in experiment: {df['user_id'].nunique()}\")\n",
    "print(f\"Data collected for {data_duration} days\")\n",
    "print(f\"Landing pages to compare: {df['landing_page'].unique().tolist()}\")\n",
    "print(f\"Percentage of users in control: {round(df[df['group']=='control'].shape[0] * 100 / df.shape[0])}%\")"
   ]
  },
  {
   "cell_type": "markdown",
   "metadata": {},
   "source": [
    "Generate prices using the 2 lognormal distributions we created"
   ]
  },
  {
   "cell_type": "code",
   "execution_count": 102,
   "metadata": {},
   "outputs": [],
   "source": [
    "def get_purchase_data(exposure):\n",
    "    if exposure['group'] == 'treatment':\n",
    "        return treatment_price_sampler.rvs()\n",
    "    return control_price_sampler.rvs()\n",
    "\n",
    "df['price'] = df.apply(get_purchase_data, axis=1).astype(int)\n",
    "df = df[df['price'] > 0]"
   ]
  },
  {
   "cell_type": "code",
   "execution_count": 103,
   "metadata": {},
   "outputs": [
    {
     "data": {
      "text/html": [
       "<div>\n",
       "<style scoped>\n",
       "    .dataframe tbody tr th:only-of-type {\n",
       "        vertical-align: middle;\n",
       "    }\n",
       "\n",
       "    .dataframe tbody tr th {\n",
       "        vertical-align: top;\n",
       "    }\n",
       "\n",
       "    .dataframe thead th {\n",
       "        text-align: right;\n",
       "    }\n",
       "</style>\n",
       "<table border=\"1\" class=\"dataframe\">\n",
       "  <thead>\n",
       "    <tr style=\"text-align: right;\">\n",
       "      <th></th>\n",
       "      <th>user_id</th>\n",
       "      <th>timestamp</th>\n",
       "      <th>group</th>\n",
       "      <th>landing_page</th>\n",
       "      <th>converted</th>\n",
       "      <th>week</th>\n",
       "      <th>price</th>\n",
       "    </tr>\n",
       "  </thead>\n",
       "  <tbody>\n",
       "    <tr>\n",
       "      <th>192899</th>\n",
       "      <td>867946</td>\n",
       "      <td>2017-01-08 23:57:17.528954</td>\n",
       "      <td>control</td>\n",
       "      <td>old_page</td>\n",
       "      <td>0</td>\n",
       "      <td>1</td>\n",
       "      <td>581</td>\n",
       "    </tr>\n",
       "    <tr>\n",
       "      <th>26510</th>\n",
       "      <td>679598</td>\n",
       "      <td>2017-01-14 05:05:30.293413</td>\n",
       "      <td>control</td>\n",
       "      <td>old_page</td>\n",
       "      <td>0</td>\n",
       "      <td>2</td>\n",
       "      <td>409</td>\n",
       "    </tr>\n",
       "  </tbody>\n",
       "</table>\n",
       "</div>"
      ],
      "text/plain": [
       "        user_id                   timestamp    group landing_page  converted  \\\n",
       "192899   867946  2017-01-08 23:57:17.528954  control     old_page          0   \n",
       "26510    679598  2017-01-14 05:05:30.293413  control     old_page          0   \n",
       "\n",
       "        week  price  \n",
       "192899     1    581  \n",
       "26510      2    409  "
      ]
     },
     "execution_count": 103,
     "metadata": {},
     "output_type": "execute_result"
    }
   ],
   "source": [
    "df.sample(2)"
   ]
  },
  {
   "cell_type": "code",
   "execution_count": 104,
   "metadata": {},
   "outputs": [],
   "source": [
    "df.to_csv('data/dataset.csv')"
   ]
  },
  {
   "cell_type": "markdown",
   "metadata": {},
   "source": [
    "### Bayes Math"
   ]
  },
  {
   "cell_type": "markdown",
   "metadata": {},
   "source": [
    "Goal of Bayesian Testing is find the Posterior \n",
    "\n",
    "$$P(\\theta | \\text{ data })$$\n",
    "\n",
    "$\\theta$ represents the parameters of the distribution. For a normal distribution\n",
    "$$\n",
    "\\theta = \\mu, \\sigma^2\n",
    "$$\n",
    "\n",
    "Thus, we want to find this joint posterior distribution: \n",
    "\n",
    "$$\n",
    "P(\\mu, \\sigma^2 | \\text{ data })\n",
    "$$\n",
    "\n",
    "From bayes theorem:\n",
    "\n",
    "$$\n",
    "P(\\mu, \\sigma^2 | \\text{ data }) = P(\\sigma^2 | \\text{data}) \\times P(\\mu | \\sigma^2, \\text{data})\n",
    "$$\n",
    "\n",
    "[The book](https://users.aalto.fi/~ave/BDA3.pdf) on bayesian analysis shows with some simplifications that:\n",
    "\n",
    "$$\n",
    "\\sigma^2 \\text{~} \\text{Inv-}\\Gamma(\\frac{v_0}{2},\\frac{v_0\\sigma_0^2}{2}) \\\\\n",
    "\\mu | \\sigma^2 \\text{~}      N(\\mu_0, \\frac{\\sigma^2}{k_0})\n",
    "$$\n",
    "\n",
    "The hyperparameters with suffix 0 are prior constants (provided before the experiment)"
   ]
  },
  {
   "cell_type": "markdown",
   "metadata": {},
   "source": [
    "Chapter 3, Page 68 explains how to determine the **posterier values** of these hyperparameters"
   ]
  },
  {
   "cell_type": "code",
   "execution_count": 105,
   "metadata": {},
   "outputs": [
    {
     "data": {
      "image/png": "[encoded data removed]",
      "text/plain": [
       "<IPython.core.display.Image object>"
      ]
     },
     "execution_count": 105,
     "metadata": {},
     "output_type": "execute_result"
    }
   ],
   "source": [
    "Image(filename='../mics/continuous_equations.png') "
   ]
  },
  {
   "cell_type": "markdown",
   "metadata": {},
   "source": [
    "So the steps are:\n",
    "1. Sample the $\\sigma^2$ values from the inverse chi sq distribution\n",
    "2. Use this to sample the means $\\mu$ from the normal distribution"
   ]
  },
  {
   "cell_type": "markdown",
   "metadata": {},
   "source": [
    "Let's code the math out. The following function is borrowed from [here](https://python.hotexamples.com/site/file?hash=0x624bd5b7fcf7c43ba274af03eb71a2c306362a30e625180419b8ff8db1da54af&fullName=wmf-master/bayesian_normal.py&project=KoLogicDev/wmf)"
   ]
  },
  {
   "cell_type": "code",
   "execution_count": 106,
   "metadata": {},
   "outputs": [],
   "source": [
    "def draw_mus_and_sigmas(data, m0, k0, s_sq0, v0, n_samples=10000):\n",
    "    \"\"\"\n",
    "    Sample mus (list) and sigma_squares (list) that are effectively\n",
    "    sampled from the posterior normal distribtution\n",
    "    \"\"\"\n",
    "\n",
    "    N = np.size(data) # number of samples\n",
    "    the_mean = np.mean(data) # find the mean of the data\n",
    "    SSD = sum( (data - the_mean)**2 ) # sum of squared differences between data and mean\n",
    "    \n",
    "    # 1) Sample the variances from an inverse gamma (params: alpha, beta)\n",
    "    kN = float(k0 + N)\n",
    "    mN = (k0/kN)*m0 + (N/kN)*the_mean\n",
    "    vN = v0 + N\n",
    "    vN_times_s_sqN = v0*s_sq0 + SSD + (N*k0*(m0-the_mean)**2)/kN\n",
    "    alpha = vN/2\n",
    "    beta = vN_times_s_sqN/2\n",
    "\n",
    "    # NOTE: if X ~ inv-gamma(a,1) then b*X ~ inv-gamma(a,b)\n",
    "    sig_sq_samples = beta*invgamma.rvs(alpha,size=n_samples)\n",
    "\n",
    "    # 2) Sample means from a normal conditioned on the drawn sigmas (params: mean_norm, var_norm)\n",
    "    mean_norm = mN\n",
    "    var_norm = np.sqrt(sig_sq_samples/kN)\n",
    "    mu_samples = norm.rvs(mean_norm,scale=var_norm,size=n_samples)\n",
    "\n",
    "    # 3) return the mu_samples and sig_sq_samples\n",
    "    return mu_samples, sig_sq_samples"
   ]
  },
  {
   "cell_type": "markdown",
   "metadata": {},
   "source": [
    "Let's use this for the log normal distribution"
   ]
  },
  {
   "cell_type": "markdown",
   "metadata": {},
   "source": [
    "If \n",
    "$$\n",
    "X \\text{~} N(\\mu_x, \\sigma_x^2)\n",
    "$$ \n",
    "\n",
    "then\n",
    "\n",
    "$$\n",
    "e^X \\text{~ logN}\\bigg(e^{\\mu_x + \\frac{\\sigma^2_x}{2}},e^{2\\mu_x + \\sigma^2_x}(e^{\\sigma^2_x}-1) \\bigg)\n",
    "$$\n",
    "\n",
    "The following function returns data sampled from a log normal distribution"
   ]
  },
  {
   "cell_type": "code",
   "execution_count": 140,
   "metadata": {},
   "outputs": [],
   "source": [
    "def draw_log_normal_means(data, m0, k0, s_sq0, v0, n_samples):\n",
    "    normal_data = np.log(data)\n",
    "    mu_samples, sig_sq_samples = draw_mus_and_sigmas(normal_data, m0, k0, s_sq0, v0, n_samples)\n",
    "    log_normal_mu_samples = np.exp(mu_samples + sig_sq_samples/2)\n",
    "    return log_normal_mu_samples"
   ]
  },
  {
   "cell_type": "code",
   "execution_count": 151,
   "metadata": {},
   "outputs": [],
   "source": [
    "NUM_WEEKS = 3\n",
    "prior = df[(df['group'] == 'control') & (df['week']==1)]\n",
    "experiment = df[(df['week'] > 1) & (df['week'] <= NUM_WEEKS)]"
   ]
  },
  {
   "cell_type": "code",
   "execution_count": 152,
   "metadata": {},
   "outputs": [],
   "source": [
    "# Define priors (sell thru)\n",
    "prior_samples = [prior['converted'].sample(1000).mean() for i in range(1000)] # Conversion Rates\n",
    "prior_alpha, prior_beta, _, _ = beta.fit(prior_samples, floc=0, fscale=1)"
   ]
  },
  {
   "cell_type": "code",
   "execution_count": 153,
   "metadata": {},
   "outputs": [],
   "source": [
    "# Define priors (prices)\n",
    "prior_conversions = prior[prior['converted']==1]\n",
    "prior_samples = [prior_conversions.sample(1000).mean() for i in range(1000)]\n",
    "prior_sigma, prior_loc, prior_scale = lognorm.fit(prior_samples, floc=0)"
   ]
  },
  {
   "cell_type": "code",
   "execution_count": 154,
   "metadata": {},
   "outputs": [],
   "source": [
    "# Posteriors\n",
    "treatment = experiment[experiment['group'] == 'treatment']\n",
    "control = experiment[experiment['group'] == 'control']\n",
    "\n",
    "treatment_converted = treatment['converted'].sum()\n",
    "treatment_non_converted = treatment['converted'].count() - treatment['converted'].sum()\n",
    "control_converted = control['converted'].sum()\n",
    "control_non_converted = control['converted'].count() - control['converted'].sum()\n",
    "\n",
    "# Update Prior parameters with experiment conversion rates\n",
    "posterior_control = beta(prior_alpha + control_converted, prior_beta + control_non_converted)\n",
    "posterior_treatment = beta(prior_alpha + treatment_converted, prior_beta + treatment_non_converted)\n",
    "\n",
    "# Sample from Posteriors\n",
    "control_conversion_samples = posterior_control.rvs(1000)\n",
    "treatment_conversion_samples = posterior_treatment.rvs(1000)"
   ]
  },
  {
   "cell_type": "code",
   "execution_count": 155,
   "metadata": {},
   "outputs": [],
   "source": [
    "control_converted = control[control['converted']==1]\n",
    "treatment_converted = treatment[treatment['converted']==1]\n",
    "\n",
    "m0 = np.log(prior_scale) # Where we think the mean of the posterior normal is\n",
    "k0 = 1.\n",
    "s_sq0 = 1.\n",
    "v0 = 1.\n",
    "\n",
    "treatment_price_samples = draw_log_normal_means(treatment_converted['price'],m0,k0,s_sq0,v0,n_samples=1000)\n",
    "control_price_samples = draw_log_normal_means(control_converted['price'],m0,k0,s_sq0,v0,n_samples=1000)"
   ]
  },
  {
   "cell_type": "code",
   "execution_count": 156,
   "metadata": {},
   "outputs": [],
   "source": [
    "# Get expected price E(x) = xP(x)\n",
    "treatment_expected_price_samples = treatment_conversion_samples*treatment_price_samples\n",
    "control_expected_price_samples = control_conversion_samples*control_price_samples"
   ]
  },
  {
   "cell_type": "code",
   "execution_count": 157,
   "metadata": {},
   "outputs": [],
   "source": [
    "lift = pd.Series((treatment_expected_price_samples - control_expected_price_samples)/control_expected_price_samples)\n",
    "lift = lift.value_counts().sort_index().cumsum() / len(lift)\n",
    "lift = lift.reset_index()\n",
    "lift.columns = ['Price Lift', 'Cumulative Probability']"
   ]
  },
  {
   "cell_type": "code",
   "execution_count": 158,
   "metadata": {},
   "outputs": [
    {
     "data": {
      "text/html": [
       "<div>\n",
       "<style scoped>\n",
       "    .dataframe tbody tr th:only-of-type {\n",
       "        vertical-align: middle;\n",
       "    }\n",
       "\n",
       "    .dataframe tbody tr th {\n",
       "        vertical-align: top;\n",
       "    }\n",
       "\n",
       "    .dataframe thead th {\n",
       "        text-align: right;\n",
       "    }\n",
       "</style>\n",
       "<table border=\"1\" class=\"dataframe\">\n",
       "  <thead>\n",
       "    <tr style=\"text-align: right;\">\n",
       "      <th></th>\n",
       "      <th>Price Lift</th>\n",
       "      <th>Cumulative Probability</th>\n",
       "    </tr>\n",
       "  </thead>\n",
       "  <tbody>\n",
       "    <tr>\n",
       "      <th>0</th>\n",
       "      <td>-0.023751</td>\n",
       "      <td>0.001</td>\n",
       "    </tr>\n",
       "    <tr>\n",
       "      <th>1</th>\n",
       "      <td>-0.013691</td>\n",
       "      <td>0.002</td>\n",
       "    </tr>\n",
       "    <tr>\n",
       "      <th>2</th>\n",
       "      <td>-0.012459</td>\n",
       "      <td>0.003</td>\n",
       "    </tr>\n",
       "    <tr>\n",
       "      <th>3</th>\n",
       "      <td>-0.012125</td>\n",
       "      <td>0.004</td>\n",
       "    </tr>\n",
       "    <tr>\n",
       "      <th>4</th>\n",
       "      <td>-0.010679</td>\n",
       "      <td>0.005</td>\n",
       "    </tr>\n",
       "    <tr>\n",
       "      <th>...</th>\n",
       "      <td>...</td>\n",
       "      <td>...</td>\n",
       "    </tr>\n",
       "    <tr>\n",
       "      <th>995</th>\n",
       "      <td>0.109922</td>\n",
       "      <td>0.996</td>\n",
       "    </tr>\n",
       "    <tr>\n",
       "      <th>996</th>\n",
       "      <td>0.110070</td>\n",
       "      <td>0.997</td>\n",
       "    </tr>\n",
       "    <tr>\n",
       "      <th>997</th>\n",
       "      <td>0.111081</td>\n",
       "      <td>0.998</td>\n",
       "    </tr>\n",
       "    <tr>\n",
       "      <th>998</th>\n",
       "      <td>0.111743</td>\n",
       "      <td>0.999</td>\n",
       "    </tr>\n",
       "    <tr>\n",
       "      <th>999</th>\n",
       "      <td>0.125074</td>\n",
       "      <td>1.000</td>\n",
       "    </tr>\n",
       "  </tbody>\n",
       "</table>\n",
       "<p>1000 rows × 2 columns</p>\n",
       "</div>"
      ],
      "text/plain": [
       "     Price Lift  Cumulative Probability\n",
       "0     -0.023751                   0.001\n",
       "1     -0.013691                   0.002\n",
       "2     -0.012459                   0.003\n",
       "3     -0.012125                   0.004\n",
       "4     -0.010679                   0.005\n",
       "..          ...                     ...\n",
       "995    0.109922                   0.996\n",
       "996    0.110070                   0.997\n",
       "997    0.111081                   0.998\n",
       "998    0.111743                   0.999\n",
       "999    0.125074                   1.000\n",
       "\n",
       "[1000 rows x 2 columns]"
      ]
     },
     "execution_count": 158,
     "metadata": {},
     "output_type": "execute_result"
    }
   ],
   "source": [
    "lift"
   ]
  },
  {
   "cell_type": "code",
   "execution_count": 159,
   "metadata": {},
   "outputs": [],
   "source": [
    "out_df = lift[lift['Price Lift'] >= 0]\n",
    "lift = round(out_df['Cumulative Probability'].iloc[0], 2)*100\n",
    "out_text = f'{round(100-lift, 2)}%'"
   ]
  },
  {
   "cell_type": "code",
   "execution_count": 160,
   "metadata": {},
   "outputs": [
    {
     "name": "stdout",
     "output_type": "stream",
     "text": [
      "98.0% chance that the lift is price is $7.66\n"
     ]
    }
   ],
   "source": [
    "print(f\"{out_text} chance that the lift is price is ${round(treatment['price'].mean() - control['price'].mean(), 2)}\")"
   ]
  }
 ],
 "metadata": {
  "kernelspec": {
   "display_name": "Python 3",
   "language": "python",
   "name": "python3"
  },
  "language_info": {
   "codemirror_mode": {
    "name": "ipython",
    "version": 3
   },
   "file_extension": ".py",
   "mimetype": "text/x-python",
   "name": "python",
   "nbconvert_exporter": "python",
   "pygments_lexer": "ipython3",
   "version": "3.7.4"
  }
 },
 "nbformat": 4,
 "nbformat_minor": 4
}
